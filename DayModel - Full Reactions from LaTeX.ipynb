{
 "cells": [
  {
   "cell_type": "code",
   "execution_count": 1,
   "metadata": {
    "collapsed": false
   },
   "outputs": [
    {
     "name": "stdout",
     "output_type": "stream",
     "text": [
      "Using matplotlib backend: Qt5Agg\n"
     ]
    },
    {
     "name": "stderr",
     "output_type": "stream",
     "text": [
      "WARNING:root: Unable to use Cython optimized SSA: Building module gillespy2.cython_ssa_solver failed: ['distutils.errors.DistutilsPlatformError: Unable to find vcvarsall.bat\\n']\n",
      "The performance of this package can be significantly increased if you install Cython.\n"
     ]
    }
   ],
   "source": [
    "%matplotlib\n",
    "%matplotlib inline\n",
    "import numpy\n",
    "import matplotlib.pyplot as plt\n",
    "import sys, os\n",
    "sys.path.append(os.path.abspath(os.path.join(os.getcwd(), os.pardir)))\n",
    "import math, gillespy2\n",
    "from gillespy2.basic_tau_hybrid_solver import BasicTauHybridSolver\n",
    "from gillespy2.basic_ssa_solver import BasicSSASolver\n",
    "from gillespy2.optimized_ssa_solver import NumPySSASolver"
   ]
  },
  {
   "cell_type": "code",
   "execution_count": 316,
   "metadata": {
    "collapsed": false
   },
   "outputs": [],
   "source": [
    "class DayModel(gillespy2.Model):\n",
    "    def __init__(self, parameter_values=None, init_v=0):\n",
    "        # initialize\n",
    "        gillespy2.Model.__init__(self, name=\"Macrophage\")\n",
    "        \n",
    "        # species\n",
    "        S_ = gillespy2.Species(name='S_', initial_value=1e6)\n",
    "        A_ = gillespy2.Species(name='H_', initial_value=0)\n",
    "        Hi_ = gillespy2.Species(name='Hi_', initial_value=0)\n",
    "        HLN_ = gillespy2.Species(name='HLN_', initial_value=0)\n",
    "        E_ = gillespy2.Species(name='E_', initial_value=2e4)\n",
    "        Be_ = gillespy2.Species(name='Be_', initial_value=0)\n",
    "        N_ = gillespy2.Species(name='N_', initial_value=0)\n",
    "        TA_ = gillespy2.Species(name='TA_', initial_value=0)\n",
    "        \n",
    "        self.add_species([S_,A_,Hi_,HLN_,E_,Be_,N_,TA_])\n",
    "        \n",
    "        # parameters\n",
    "        ns = gillespy2.Parameter(name='ns', expression=3.38) # avg = 3.38\n",
    "        nb = gillespy2.Parameter(name='nb', expression=5)\n",
    "\n",
    "        k1 = gillespy2.Parameter(name='k1', expression=1e-4)\n",
    "        k2 = gillespy2.Parameter(name='k2', expression=1e-4)\n",
    "        k3 = gillespy2.Parameter(name='k3', expression=0.05)\n",
    "        k4 = gillespy2.Parameter(name='k4', expression=2)\n",
    "        k5 = gillespy2.Parameter(name='k5', expression=0.8)\n",
    "        k6 = gillespy2.Parameter(name='k6', expression=5e-4)\n",
    "        k8 = gillespy2.Parameter(name='k8', expression=6e-4)\n",
    "        k9 = gillespy2.Parameter(name='k9', expression=5e-4)\n",
    "        k10 = gillespy2.Parameter(name='k10', expression=1e-4)\n",
    "\n",
    "        Sa = gillespy2.Parameter(name='Sa', expression=3e5)\n",
    "        Se = gillespy2.Parameter(name='Se', expression=1e5)\n",
    "\n",
    "        MuA = gillespy2.Parameter(name='MuA', expression=0.05)\n",
    "        MuE = gillespy2.Parameter(name='MuE', expression=0.05)\n",
    "        MuN = gillespy2.Parameter(name='MuN', expression=0.06)\n",
    "        MuTA = gillespy2.Parameter(name='MuTA', expression=2)\n",
    "\n",
    "        N0 = gillespy2.Parameter(name='N0', expression=5500)\n",
    "\n",
    "        BeMAX = gillespy2.Parameter(name='BeMAX', expression=5e4)\n",
    "\n",
    "        CT1 = gillespy2.Parameter(name='CT1', expression=1)\n",
    "        CT2 = gillespy2.Parameter(name='CT2', expression=1)\n",
    "        CT3 = gillespy2.Parameter(name='CT3', expression=1)\n",
    "        CTB = gillespy2.Parameter(name='CTB', expression=1000)\n",
    "        \n",
    "        \n",
    "        #self.add_parameter([ns,k2,k3,Sa,MuA])\n",
    "        self.add_parameter([ns,nb,k1,k2,k3,k4,k5,k6,k8,k9,k10,Sa,Se,MuA,MuE,MuN,MuTA,N0,BeMAX,CT1,CT2,CT3,CTB])\n",
    "        \n",
    "        # reactions\n",
    "        R1 = gillespy2.Reaction(\n",
    "            name='R1',\n",
    "            reactants={S_:float(ns.expression)},\n",
    "            products={Hi_:1},\n",
    "            propensity_function=\"(k2*S_*(Sa/(k2*S_ + MuA)))/ns\"\n",
    "        )\n",
    "        \n",
    "        R2 = gillespy2.Reaction(\n",
    "            name='R2',\n",
    "            reactants={Hi_:1},\n",
    "            products={HLN_:1},\n",
    "            rate=k3\n",
    "        )\n",
    "        \n",
    "        R3 = gillespy2.Reaction(\n",
    "            name='R3',\n",
    "            reactants={},\n",
    "            products={E_:1},\n",
    "            rate=Se\n",
    "        )\n",
    "        \n",
    "        R4 = gillespy2.Reaction(\n",
    "            name='R4',\n",
    "            reactants={E_:1},\n",
    "            products={},\n",
    "            rate=MuE\n",
    "        )\n",
    "        \n",
    "        R5 = gillespy2.Reaction(\n",
    "            name='R5',\n",
    "            reactants={E_:1,Be_:1},\n",
    "            products={},\n",
    "            rate=k1\n",
    "        )\n",
    "        \n",
    "        R6 = gillespy2.Reaction(\n",
    "            name='R6',\n",
    "            reactants={HLN_:1},\n",
    "            products={Be_:float(nb.expression)},\n",
    "            rate=k3\n",
    "        )\n",
    "        \n",
    "        R7 = gillespy2.Reaction(\n",
    "            name='R7',\n",
    "            reactants={Be_:1},\n",
    "            products={Be_:1},\n",
    "            propensity_function=\"k5*Be_*(1 - (Be_/BeMAX))\"\n",
    "        )\n",
    "        \n",
    "        R8 = gillespy2.Reaction(\n",
    "            name='R8',\n",
    "            reactants={E_:1,Be_:1},\n",
    "            products={},\n",
    "            rate=k6\n",
    "        )\n",
    "        \n",
    "        R9 = gillespy2.Reaction(\n",
    "            name='R9',\n",
    "            reactants={N_:1,Be_:1},\n",
    "            products={},\n",
    "            propensity_function=\"(k8*N_*Be_)/(1+(TA_/CT1))\"\n",
    "        )\n",
    "        \n",
    "        R10 = gillespy2.Reaction(\n",
    "            name='R10',\n",
    "            reactants={Be_:1,E_:1},\n",
    "            products={N_:1},\n",
    "            propensity_function=\"(k9*Be_*E_*N0)/(1+(TA_/CT2))\"\n",
    "        )\n",
    "        \n",
    "        R11 = gillespy2.Reaction(\n",
    "            name='R11',\n",
    "            reactants={N_:1},\n",
    "            products={N_:1},\n",
    "            propensity_function=\"(k10*N_*N0)/(1+(TA_/CT3))\"\n",
    "        )\n",
    "        \n",
    "        R12 = gillespy2.Reaction(\n",
    "            name='R12',\n",
    "            reactants={N_:1},\n",
    "            products={},\n",
    "            rate=MuN\n",
    "        )\n",
    "        \n",
    "        R13 = gillespy2.Reaction(\n",
    "            name='R13',\n",
    "            reactants={Be_:1},\n",
    "            products={TA_:1},\n",
    "            propensity_function=\"k4*(Be_/(CTB+Be_))\"\n",
    "        )\n",
    "        \n",
    "        R14 = gillespy2.Reaction(\n",
    "            name='R14',\n",
    "            reactants={TA_:1},\n",
    "            products={},\n",
    "            rate=MuTA\n",
    "        )\n",
    "                \n",
    "        self.add_reaction([R1,R2,R3,R4,R5,R6,R7,R8,R9,R10,R11,R12,R13,R14])\n",
    "        t = numpy.linspace(0,3,4)\n",
    "        self.timespan(t)\n",
    "        print(t)"
   ]
  },
  {
   "cell_type": "code",
   "execution_count": 317,
   "metadata": {
    "collapsed": false
   },
   "outputs": [
    {
     "name": "stdout",
     "output_type": "stream",
     "text": [
      "[ 0.  1.  2.  3.]\n"
     ]
    }
   ],
   "source": [
    "model = DayModel()"
   ]
  },
  {
   "cell_type": "code",
   "execution_count": null,
   "metadata": {
    "collapsed": false
   },
   "outputs": [],
   "source": [
    "%time results = model.run(solver=BasicTauHybridSolver())"
   ]
  },
  {
   "cell_type": "code",
   "execution_count": null,
   "metadata": {
    "collapsed": false
   },
   "outputs": [],
   "source": [
    "fig = plt.figure(figsize=(18,10))\n",
    "fig.suptitle(\"Intralung Phagocytosis\", fontsize=20)\n",
    "plt.plot(results['time'], results['S_'], 'g-', label='Anthrax')\n",
    "#plt.plot(results['time'], results['M_'], 'b-', label='Macrophage')\n",
    "plt.plot(results['time'], results['Hi_'], 'k-', label='Infected Cell')\n",
    "plt.xlabel(\"Time in Seconds\", fontsize=12)\n",
    "plt.ylabel(\"Number of Cells\", fontsize=12)\n",
    "plt.legend(loc='best', fontsize=12)\n",
    "#print(results['S_'][-1]/(results['S_'][0]/int(model.listOfParameters['ns'].expression)))\n",
    "#print(results['H_'][-1])\n",
    "print(\"Spores remaining: {}\".format(results['S_'][-1]))\n",
    "print(\"Intralung host cells: {}\".format(results['Hi_'][-1]))\n",
    "\n",
    "\n"
   ]
  },
  {
   "cell_type": "code",
   "execution_count": null,
   "metadata": {
    "collapsed": false
   },
   "outputs": [],
   "source": [
    "fig = plt.figure(figsize=(18,10))\n",
    "fig.suptitle(\"Migration to TMLN\", fontsize=20)\n",
    "plt.plot(results['time'], results['Hi_'], 'g-', label='Intralung Host Cells')\n",
    "plt.plot(results['time'], results['HLN_'], 'k-', label='Lymph Node Host Cells')\n",
    "plt.xlabel(\"Time in Seconds\", fontsize=12)\n",
    "plt.ylabel(\"Number of Cells\", fontsize=12)\n",
    "plt.legend(loc='best', fontsize=12)\n",
    "#print(results['S_'][-1]/(results['S_'][0]/int(model.listOfParameters['ns'].expression)))\n",
    "#print(results['H_'][-1])\n",
    "print(\"Host Cells in Lung: {}\".format(results['Hi_'][-1]))\n",
    "print(\"Host Cells in TMLN: {}\".format(results['HLN_'][-1]))\n"
   ]
  },
  {
   "cell_type": "code",
   "execution_count": null,
   "metadata": {
    "collapsed": false
   },
   "outputs": [],
   "source": [
    "fig = plt.figure(figsize=(18,10))\n",
    "fig.suptitle(\"Lymphocyte Response\", fontsize=20)\n",
    "plt.plot(results['time'], results['E_'], 'g-', label='Lymphocytes')\n",
    "plt.xlabel(\"Time in Seconds\", fontsize=12)\n",
    "plt.ylabel(\"Number of Cells\", fontsize=12)\n",
    "plt.legend(loc='best', fontsize=12)\n",
    "#print(results['S_'][-1]/(results['S_'][0]/int(model.listOfParameters['ns'].expression)))\n",
    "#print(results['H_'][-1])\n",
    "print(\"Lymphocyte Cells: {}\".format(results['E_'][-1]))"
   ]
  },
  {
   "cell_type": "code",
   "execution_count": null,
   "metadata": {
    "collapsed": false
   },
   "outputs": [],
   "source": [
    "fig = plt.figure(figsize=(18,10))\n",
    "fig.suptitle(\"Extracellular Bacteria Response\", fontsize=20)\n",
    "plt.plot(results['time'], results['Be_'], 'g-', label='Extracellular Bacteria')\n",
    "plt.xlabel(\"Time in Seconds\", fontsize=12)\n",
    "plt.ylabel(\"Number of Cells\", fontsize=12)\n",
    "plt.legend(loc='best', fontsize=12)\n",
    "#print(results['S_'][-1]/(results['S_'][0]/int(model.listOfParameters['ns'].expression)))\n",
    "#print(results['H_'][-1])\n",
    "print(\"Lymphocyte Cells: {}\".format(results['Be_'][-1]))"
   ]
  },
  {
   "cell_type": "code",
   "execution_count": null,
   "metadata": {
    "collapsed": false
   },
   "outputs": [],
   "source": [
    "fig = plt.figure(figsize=(18,10))\n",
    "fig.suptitle(\"Neutrophil Response\", fontsize=20)\n",
    "plt.plot(results['time'], results['N'], 'g-', label='Neutrophils')\n",
    "plt.xlabel(\"Time in Seconds\", fontsize=12)\n",
    "plt.ylabel(\"Number of Cells\", fontsize=12)\n",
    "plt.legend(loc='best', fontsize=12)\n",
    "#print(results['S_'][-1]/(results['S_'][0]/int(model.listOfParameters['ns'].expression)))\n",
    "#print(results['H_'][-1])\n",
    "print(\"Lymphocyte Cells: {}\".format(results['N_'][-1]))"
   ]
  },
  {
   "cell_type": "code",
   "execution_count": null,
   "metadata": {
    "collapsed": false
   },
   "outputs": [],
   "source": [
    "fig = plt.figure(figsize=(18,10))\n",
    "fig.suptitle(\"Toxin Response\", fontsize=20)\n",
    "plt.plot(results['time'], results['TA_'], 'g-', label='Anthrax Toxins')\n",
    "plt.xlabel(\"Time in Seconds\", fontsize=12)\n",
    "plt.ylabel(\"Number of Cells\", fontsize=12)\n",
    "plt.legend(loc='best', fontsize=12)\n",
    "#print(results['S_'][-1]/(results['S_'][0]/int(model.listOfParameters['ns'].expression)))\n",
    "#print(results['H_'][-1])\n",
    "print(\"Lymphocyte Cells: {}\".format(results['TA_'][-1]))"
   ]
  },
  {
   "cell_type": "code",
   "execution_count": null,
   "metadata": {
    "collapsed": true
   },
   "outputs": [],
   "source": []
  }
 ],
 "metadata": {
  "kernelspec": {
   "display_name": "Python 3",
   "language": "python",
   "name": "python3"
  },
  "language_info": {
   "codemirror_mode": {
    "name": "ipython",
    "version": 3
   },
   "file_extension": ".py",
   "mimetype": "text/x-python",
   "name": "python",
   "nbconvert_exporter": "python",
   "pygments_lexer": "ipython3",
   "version": "3.6.0"
  }
 },
 "nbformat": 4,
 "nbformat_minor": 2
}
