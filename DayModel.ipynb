{
 "cells": [
  {
   "cell_type": "code",
   "execution_count": 1,
   "metadata": {},
   "outputs": [
    {
     "name": "stdout",
     "output_type": "stream",
     "text": [
      "Using matplotlib backend: TkAgg\n"
     ]
    }
   ],
   "source": [
    "%matplotlib\n",
    "%matplotlib inline\n",
    "import numpy\n",
    "import matplotlib.pyplot as plt"
   ]
  },
  {
   "cell_type": "code",
   "execution_count": 15,
   "metadata": {},
   "outputs": [],
   "source": [
    "import sys\n",
    "import os\n",
    "sys.path.append(os.path.abspath(os.path.join(os.getcwd(), os.pardir)))"
   ]
  },
  {
   "cell_type": "code",
   "execution_count": 16,
   "metadata": {},
   "outputs": [],
   "source": [
    "import math\n",
    "import gillespy2\n",
    "from gillespy2.basic_tau_hybrid_solver import BasicTauHybridSolver"
   ]
  },
  {
   "cell_type": "code",
   "execution_count": 273,
   "metadata": {},
   "outputs": [],
   "source": [
    "class DayModel(gillespy2.Model):\n",
    "    def __init__(self, parameter_values=None, init_v=0):\n",
    "        # initialize\n",
    "        gillespy2.Model.__init__(self, name=\"Macrophage\")\n",
    "        \n",
    "        # species\n",
    "        S_ = gillespy2.Species(name='S_', initial_value=1e7)\n",
    "        M_ = gillespy2.Species(name='M_', initial_value=1e7)\n",
    "        H_ = gillespy2.Species(name='H_', initial_value=0)\n",
    "        \n",
    "        self.add_species([S_,M_,H_])\n",
    "        \n",
    "        # parameters\n",
    "        k2 = gillespy2.Parameter(name='k2', expression=6.35e-12)\n",
    "        k3 = gillespy2.Parameter(name='k3', expression=0)\n",
    "        Sa = gillespy2.Parameter(name='Sa_', expression=0)\n",
    "        MuA = gillespy2.Parameter(name='MuA', expression=0)\n",
    "        ns = gillespy2.Parameter(name='ns', expression=4) # avg = 3.38\n",
    "        \n",
    "        self.add_parameter([k2,k3,Sa,ns,MuA])\n",
    "        \n",
    "        # reactions\n",
    "        r1 = gillespy2.Reaction(name='r1', reactants={S_:int(ns.expression),M_:1}, products={H_:1},\n",
    "                               propensity_function=\"(k2*S_*M_)/ns\")\n",
    "        \n",
    "        r2 = gillespy2.Reaction(name='r2', reactants={}, products = {M_:1},\n",
    "                                rate=Sa)\n",
    "        \n",
    "        r3 = gillespy2.Reaction(name='r3', reactants={M_:1}, products = {},\n",
    "                                rate=MuA)\n",
    "        \n",
    "        r4 = gillespy2.Reaction(name='r4', reactants={H_:1}, products = {},\n",
    "                                rate=k3)\n",
    "        \n",
    "        self.add_reaction([r1,r2,r3,r4])\n",
    "        t = numpy.linspace(0,3600,360)\n",
    "        self.timespan(t)\n",
    "        # print(t)"
   ]
  },
  {
   "cell_type": "code",
   "execution_count": 274,
   "metadata": {},
   "outputs": [],
   "source": [
    "model = DayModel()"
   ]
  },
  {
   "cell_type": "code",
   "execution_count": 275,
   "metadata": {},
   "outputs": [
    {
     "name": "stdout",
     "output_type": "stream",
     "text": [
      "CPU times: user 688 ms, sys: 31.2 ms, total: 719 ms\n",
      "Wall time: 730 ms\n"
     ]
    }
   ],
   "source": [
    "%time results = model.run(solver=BasicTauHybridSolver())"
   ]
  },
  {
   "cell_type": "code",
   "execution_count": 276,
   "metadata": {},
   "outputs": [
    {
     "data": {
      "text/plain": [
       "<matplotlib.legend.Legend at 0x7f166d68ee80>"
      ]
     },
     "execution_count": 276,
     "metadata": {},
     "output_type": "execute_result"
    },
    {
     "data": {
      "image/png": "[encoded data removed]",
      "text/plain": [
       "<Figure size 1296x720 with 1 Axes>"
      ]
     },
     "metadata": {},
     "output_type": "display_data"
    }
   ],
   "source": [
    "plt.figure(figsize=(18,10))\n",
    "plt.plot(results['time'], results['S_'], 'g-', label='Anthrax')\n",
    "plt.plot(results['time'], results['M_'], 'b-', label='Macrophage')\n",
    "plt.plot(results['time'], results['H_'], 'k-', label='Infected Cell')\n",
    "plt.legend(loc='best')\n",
    "\n"
   ]
  },
  {
   "cell_type": "code",
   "execution_count": 277,
   "metadata": {},
   "outputs": [
    {
     "name": "stdout",
     "output_type": "stream",
     "text": [
      "0.80041\n"
     ]
    }
   ],
   "source": [
    "print(results['S_'][-1]/results['S_'][0])"
   ]
  },
  {
   "cell_type": "code",
   "execution_count": null,
   "metadata": {},
   "outputs": [],
   "source": []
  },
  {
   "cell_type": "code",
   "execution_count": null,
   "metadata": {},
   "outputs": [],
   "source": []
  },
  {
   "cell_type": "code",
   "execution_count": null,
   "metadata": {},
   "outputs": [],
   "source": []
  }
 ],
 "metadata": {
  "kernelspec": {
   "display_name": "Python 3",
   "language": "python",
   "name": "python3"
  },
  "language_info": {
   "codemirror_mode": {
    "name": "ipython",
    "version": 3
   },
   "file_extension": ".py",
   "mimetype": "text/x-python",
   "name": "python",
   "nbconvert_exporter": "python",
   "pygments_lexer": "ipython3",
   "version": "3.5.2"
  }
 },
 "nbformat": 4,
 "nbformat_minor": 2
}
