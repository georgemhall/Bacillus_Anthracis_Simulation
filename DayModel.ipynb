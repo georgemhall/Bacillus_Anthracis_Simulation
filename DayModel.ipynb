{
 "cells": [
  {
   "cell_type": "code",
   "execution_count": 12,
   "metadata": {
    "collapsed": false
   },
   "outputs": [
    {
     "name": "stdout",
     "output_type": "stream",
     "text": [
      "Using matplotlib backend: Qt5Agg\n"
     ]
    }
   ],
   "source": [
    "%matplotlib\n",
    "%matplotlib inline\n",
    "import numpy\n",
    "import matplotlib.pyplot as plt"
   ]
  },
  {
   "cell_type": "code",
   "execution_count": 13,
   "metadata": {
    "collapsed": false
   },
   "outputs": [],
   "source": [
    "import sys\n",
    "import os\n",
    "sys.path.append(os.path.abspath(os.path.join(os.getcwd(), os.pardir)))"
   ]
  },
  {
   "cell_type": "code",
   "execution_count": 14,
   "metadata": {
    "collapsed": false
   },
   "outputs": [],
   "source": [
    "import math\n",
    "import gillespy2\n",
    "from gillespy2.basic_ssa_solver import BasicSSASolver\n",
    "from gillespy2.tau_leaping_solver import TauLeapingSolver"
   ]
  },
  {
   "cell_type": "code",
   "execution_count": 42,
   "metadata": {
    "collapsed": false
   },
   "outputs": [],
   "source": [
    "class DayModel(gillespy2.Model):\n",
    "    def __init__(self, parameter_values=None, init_v=500):\n",
    "        # initialize\n",
    "        gillespy2.Model.__init__(self, name=\"Macrophage\")\n",
    "        \n",
    "        # species\n",
    "        S = gillespy2.Species(name='S', initial_value=init_v)\n",
    "        A = gillespy2.Species(name='A', initial_value=200)\n",
    "        H = gillespy2.Species(name='H', initial_value=0)\n",
    "        \n",
    "        self.add_species([S,A,H])\n",
    "        \n",
    "        # parameters\n",
    "        k2 = gillespy2.Parameter(name='k2', expression=10e-10)\n",
    "        k3 = gillespy2.Parameter(name='k3', expression=0.05)\n",
    "        Sa = gillespy2.Parameter(name='Sa', expression=0.05)\n",
    "        MuA = gillespy2.Parameter(name='MuA', expression=0.05)\n",
    "        \n",
    "        self.add_parameter([k2,k3,Sa,MuA])\n",
    "        \n",
    "        # reactions\n",
    "        r1 = gillespy2.Reaction(name='r1', reactants={S:1,A:1}, products={H:1},\n",
    "                               rate=k2)\n",
    "        \n",
    "        r2 = gillespy2.Reaction(name='r2', reactants={}, products = {A:1},\n",
    "                                rate=Sa)\n",
    "        \n",
    "        r3 = gillespy2.Reaction(name='r3', reactants={A:1}, products = {},\n",
    "                                rate=MuA)\n",
    "        \n",
    "        r4 = gillespy2.Reaction(name='r4', reactants={H:1}, products = {},\n",
    "                                rate=k3)\n",
    "        \n",
    "        self.add_reaction([r1,r2,r3,r4])\n",
    "        self.timespan(numpy.linspace(0,10,1001))"
   ]
  },
  {
   "cell_type": "code",
   "execution_count": 43,
   "metadata": {
    "collapsed": false
   },
   "outputs": [],
   "source": [
    "model = DayModel()"
   ]
  },
  {
   "cell_type": "code",
   "execution_count": 44,
   "metadata": {
    "collapsed": false
   },
   "outputs": [
    {
     "name": "stdout",
     "output_type": "stream",
     "text": [
      "Wall time: 4.54 ms\n"
     ]
    }
   ],
   "source": [
    "%time results = model.run(solver=BasicSSASolver, show_labels=True)"
   ]
  },
  {
   "cell_type": "code",
   "execution_count": 45,
   "metadata": {
    "collapsed": false
   },
   "outputs": [
    {
     "data": {
      "text/plain": [
       "<matplotlib.legend.Legend at 0x2aa85f09dd8>"
      ]
     },
     "execution_count": 45,
     "metadata": {},
     "output_type": "execute_result"
    },
    {
     "data": {
      "image/png": "[encoded data removed]",
      "text/plain": [
       "<matplotlib.figure.Figure at 0x2aa85d709b0>"
      ]
     },
     "metadata": {},
     "output_type": "display_data"
    }
   ],
   "source": [
    "plt.figure(figsize=(18,10))\n",
    "plt.plot(results['time'], results['S'], label='S')\n",
    "plt.plot(results['time'], results['A'], label='A')\n",
    "plt.plot(results['time'], results['H'], label='H')\n",
    "plt.legend(loc='best')\n",
    "\n"
   ]
  },
  {
   "cell_type": "code",
   "execution_count": null,
   "metadata": {
    "collapsed": true
   },
   "outputs": [],
   "source": []
  }
 ],
 "metadata": {
  "kernelspec": {
   "display_name": "Python 3",
   "language": "python",
   "name": "python3"
  },
  "language_info": {
   "codemirror_mode": {
    "name": "ipython",
    "version": 3
   },
   "file_extension": ".py",
   "mimetype": "text/x-python",
   "name": "python",
   "nbconvert_exporter": "python",
   "pygments_lexer": "ipython3",
   "version": "3.6.0"
  }
 },
 "nbformat": 4,
 "nbformat_minor": 2
}
