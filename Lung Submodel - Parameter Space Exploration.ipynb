{
 "cells": [
  {
   "cell_type": "code",
   "execution_count": 1,
   "metadata": {},
   "outputs": [],
   "source": [
    "#%matplotlib\n",
    "%matplotlib inline\n",
    "import numpy\n",
    "import matplotlib.pyplot as plt\n",
    "import sys, os\n",
    "sys.path.append(os.path.abspath(os.path.join(os.getcwd(), os.pardir)))\n",
    "import math, gillespy2\n",
    "from gillespy2.solvers.cpp.ssa_c_solver import SSACSolver\n",
    "from gillespy2.solvers.numpy.basic_ode_solver import BasicODESolver\n",
    "from scipy import stats"
   ]
  },
  {
   "cell_type": "code",
   "execution_count": 2,
   "metadata": {},
   "outputs": [],
   "source": [
    "class DayModel(gillespy2.Model):\n",
    "    def __init__(self, parameter_values=None, init_v=0, spore=1.61e9, macrophage=1e6):\n",
    "        # initialize\n",
    "        gillespy2.Model.__init__(self, name=\"Macrophage\")\n",
    "        \n",
    "        # species\n",
    "        #S_ = gillespy2.Species(name='S_', initial_value=3.256e6) # low = 4e3; mid = 2e4; high = 1e7\n",
    "        S_ = gillespy2.Species(name='S_', initial_value=spore) # low = 4e3; mid = 2e4; high = 1e7\n",
    "        \n",
    "        #A_ = gillespy2.Species(name='A_', initial_value=1e6) # A = Sa/(k2*S+MuA)\n",
    "        A_ = gillespy2.Species(name='A_', initial_value=macrophage) # A = Sa/(k2*S+MuA)\n",
    "        \n",
    "        H1 = gillespy2.Species(name='H1', initial_value=0)\n",
    "        H2 = gillespy2.Species(name='H2', initial_value=0)\n",
    "        H3 = gillespy2.Species(name='H3', initial_value=0)\n",
    "        H4 = gillespy2.Species(name='H4', initial_value=0)\n",
    "        H5 = gillespy2.Species(name='H5', initial_value=0)\n",
    "        H6 = gillespy2.Species(name='H6', initial_value=0)\n",
    "        \n",
    "        HLN1 = gillespy2.Species(name='HLN1', initial_value=0)\n",
    "        HLN2 = gillespy2.Species(name='HLN2', initial_value=0)\n",
    "        HLN3 = gillespy2.Species(name='HLN3', initial_value=0)\n",
    "        HLN4 = gillespy2.Species(name='HLN4', initial_value=0)\n",
    "        HLN5 = gillespy2.Species(name='HLN5', initial_value=0)\n",
    "        HLN6 = gillespy2.Species(name='HLN6', initial_value=0)\n",
    "        \n",
    "        self.add_species([S_,A_,H1,H2,H3,H4,H5,H6,HLN1,HLN2,HLN3,HLN4,HLN5,HLN6])\n",
    "        \n",
    "        # parameters        \n",
    "        # rate of phagocytosis\n",
    "        k2 = gillespy2.Parameter(name='k2', expression=1e-10)\n",
    "        \n",
    "        # migration to TMLN\n",
    "        k3 = gillespy2.Parameter(name='k3', expression=0.05)\n",
    "        \n",
    "        self.add_parameter([k2,k3])\n",
    "        \n",
    "        # reactions\n",
    "        R1 = gillespy2.Reaction(\n",
    "            name='R1',\n",
    "            reactants={S_:1, A_:1},\n",
    "            products={H1:1},\n",
    "            rate=k2\n",
    "        )\n",
    "        \n",
    "        R2 = gillespy2.Reaction(\n",
    "            name='R2',\n",
    "            reactants={S_:1, H1:1},\n",
    "            products={H2:1},\n",
    "            rate=k2\n",
    "        )\n",
    "        \n",
    "        R3 = gillespy2.Reaction(\n",
    "            name='R3',\n",
    "            reactants={S_:1, H2:1},\n",
    "            products={H3:1},\n",
    "            rate=k2\n",
    "        )\n",
    "        \n",
    "        R4 = gillespy2.Reaction(\n",
    "            name='R4',\n",
    "            reactants={S_:1, H3:1},\n",
    "            products={H4:1},\n",
    "            rate=k2\n",
    "        )\n",
    "        \n",
    "        R5 = gillespy2.Reaction(\n",
    "            name='R5',\n",
    "            reactants={S_:1, H4:1},\n",
    "            products={H5:1},\n",
    "            rate=k2\n",
    "        )\n",
    "        \n",
    "        R6 = gillespy2.Reaction(\n",
    "            name='R6',\n",
    "            reactants={S_:1, H5:1},\n",
    "            products={H6:1},\n",
    "            rate=k2\n",
    "        )\n",
    "        \n",
    "        # To the lung\n",
    "        R7 = gillespy2.Reaction(\n",
    "            name='R7',\n",
    "            reactants={H1:1},\n",
    "            products={HLN1:1},\n",
    "            rate=k3\n",
    "        )\n",
    "        \n",
    "        R8 = gillespy2.Reaction(\n",
    "            name='R8',\n",
    "            reactants={H2:1},\n",
    "            products={HLN2:1},\n",
    "            rate=k3\n",
    "        )\n",
    "        \n",
    "        R9 = gillespy2.Reaction(\n",
    "            name='R9',\n",
    "            reactants={H3:1},\n",
    "            products={HLN3:1},\n",
    "            rate=k3\n",
    "        )\n",
    "        \n",
    "        R10 = gillespy2.Reaction(\n",
    "            name='R10',\n",
    "            reactants={H4:1},\n",
    "            products={HLN4:1},\n",
    "            rate=k3\n",
    "        )\n",
    "        \n",
    "        R11 = gillespy2.Reaction(\n",
    "            name='R11',\n",
    "            reactants={H5:1},\n",
    "            products={HLN5:1},\n",
    "            rate=k3\n",
    "        )\n",
    "        \n",
    "        R12 = gillespy2.Reaction(\n",
    "            name='R12',\n",
    "            reactants={H6:1},\n",
    "            products={HLN6:1},\n",
    "            rate=k3\n",
    "        )\n",
    "                \n",
    "        self.add_reaction([R1,R2,R3,R4,R5,R6,R7,R8,R9,R10,R11,R12])\n",
    "        t = numpy.linspace(0,200,21)\n",
    "        self.timespan(t)\n",
    "        #print(t)"
   ]
  },
  {
   "cell_type": "code",
   "execution_count": 3,
   "metadata": {},
   "outputs": [],
   "source": [
    "def get_mean(results):\n",
    "    num =  (\n",
    "        (1*results['HLN1'][-1]) +\n",
    "        (2*results['HLN2'][-1]) +\n",
    "        (3*results['HLN3'][-1]) +\n",
    "        (4*results['HLN4'][-1]) +\n",
    "        (5*results['HLN5'][-1]) +\n",
    "        (6*results['HLN6'][-1])\n",
    "    )\n",
    "\n",
    "    div = (\n",
    "        results['HLN1'][-1] +\n",
    "        results['HLN2'][-1] +\n",
    "        results['HLN3'][-1] +\n",
    "        results['HLN4'][-1] +\n",
    "        results['HLN5'][-1] +\n",
    "        results['HLN6'][-1]\n",
    "    )\n",
    "    \n",
    "    print(results['HLN1'][-1])\n",
    "    \n",
    "    weighted_avg = num / div\n",
    "    return weighted_avg\n",
    "\n",
    "def get_std(results):\n",
    "    num =  (\n",
    "        (1*results['HLN1'][-1]) +\n",
    "        (2*results['HLN2'][-1]) +\n",
    "        (3*results['HLN3'][-1]) +\n",
    "        (4*results['HLN4'][-1]) +\n",
    "        (5*results['HLN5'][-1]) +\n",
    "        (6*results['HLN6'][-1])\n",
    "    )\n",
    "    \n",
    "    num_sq =  (\n",
    "        (1*results['HLN1'][-1]) +\n",
    "        (4*results['HLN2'][-1]) +\n",
    "        (9*results['HLN3'][-1]) +\n",
    "        (16*results['HLN4'][-1]) +\n",
    "        (25*results['HLN5'][-1]) +\n",
    "        (36*results['HLN6'][-1])\n",
    "    )\n",
    "\n",
    "    div = (\n",
    "        results['HLN1'][-1] +\n",
    "        results['HLN2'][-1] +\n",
    "        results['HLN3'][-1] +\n",
    "        results['HLN4'][-1] +\n",
    "        results['HLN5'][-1] +\n",
    "        results['HLN6'][-1]\n",
    "    )\n",
    "    \n",
    "    weighted_avg = num / div\n",
    "    var_x = (num_sq / div) - weighted_avg**2\n",
    "    return numpy.sqrt(var_x)\n",
    "\n",
    "def get_sem(results):\n",
    "    n = (\n",
    "        results['HLN1'][-1] +\n",
    "        results['HLN2'][-1] +\n",
    "        results['HLN3'][-1] +\n",
    "        results['HLN4'][-1] +\n",
    "        results['HLN5'][-1] +\n",
    "        results['HLN6'][-1]\n",
    "    )\n",
    "    return get_std(results)/numpy.sqrt(n)"
   ]
  },
  {
   "cell_type": "code",
   "execution_count": 4,
   "metadata": {},
   "outputs": [
    {
     "name": "stdout",
     "output_type": "stream",
     "text": [
      "Wall time: 65.9 ms\n",
      "29677056.00620797\n",
      "Wall time: 0 ns\n"
     ]
    },
    {
     "data": {
      "text/plain": [
       "3.3623414558721545"
      ]
     },
     "execution_count": 4,
     "metadata": {},
     "output_type": "execute_result"
    }
   ],
   "source": [
    "model_4_4 = DayModel(macrophage=1.27E+08, spore=1.83E+09)\n",
    "%time results_4_4 = model_4_4.run(solver=BasicODESolver)\n",
    "%time mean_of_model_4_4 = get_mean(results_4_4[0])\n",
    "mean_of_model_4_4"
   ]
  },
  {
   "cell_type": "code",
   "execution_count": 5,
   "metadata": {},
   "outputs": [
    {
     "name": "stdout",
     "output_type": "stream",
     "text": [
      "Wall time: 72.8 ms\n",
      "26647755.3006905\n",
      "Wall time: 0 ns\n"
     ]
    },
    {
     "data": {
      "text/plain": [
       "3.3825942489978216"
      ]
     },
     "execution_count": 5,
     "metadata": {},
     "output_type": "execute_result"
    }
   ],
   "source": [
    "model1 = DayModel(macrophage=1.15E+08, spore=1.83E+09)\n",
    "%time results1 = model1.run(solver=BasicODESolver)\n",
    "%time mean_of_model1 = get_mean(results1[0])\n",
    "mean_of_model1"
   ]
  },
  {
   "cell_type": "code",
   "execution_count": 6,
   "metadata": {},
   "outputs": [
    {
     "name": "stdout",
     "output_type": "stream",
     "text": [
      "Wall time: 58.8 ms\n",
      "429812826.4278242\n",
      "Wall time: 998 µs\n"
     ]
    },
    {
     "data": {
      "text/plain": [
       "2.588115779459762"
      ]
     },
     "execution_count": 6,
     "metadata": {},
     "output_type": "execute_result"
    }
   ],
   "source": [
    "model_6_5 = DayModel(macrophage=1.44E+09, spore=3.79E+09)\n",
    "%time results_6_5 = model_6_5.run(solver=BasicODESolver)\n",
    "%time mean_of_model_6_5 = get_mean(results_6_5[0])\n",
    "mean_of_model_6_5"
   ]
  },
  {
   "cell_type": "code",
   "execution_count": 7,
   "metadata": {},
   "outputs": [
    {
     "name": "stdout",
     "output_type": "stream",
     "text": [
      "Wall time: 79.8 ms\n",
      "134117975.40004365\n",
      "Wall time: 0 ns\n"
     ]
    },
    {
     "data": {
      "text/plain": [
       "4.477386016356436"
      ]
     },
     "execution_count": 7,
     "metadata": {},
     "output_type": "execute_result"
    }
   ],
   "source": [
    "model_6_6 = DayModel(macrophage=1.44E+09, spore=7.85E+09)\n",
    "%time results_6_6 = model_6_6.run(solver=BasicODESolver)\n",
    "%time mean_of_model_6_6 = get_mean(results_6_6[0])\n",
    "mean_of_model_6_6"
   ]
  },
  {
   "cell_type": "code",
   "execution_count": 8,
   "metadata": {},
   "outputs": [
    {
     "name": "stdout",
     "output_type": "stream",
     "text": [
      "Wall time: 66.8 ms\n",
      "651178975.9514292\n",
      "Wall time: 0 ns\n"
     ]
    },
    {
     "data": {
      "text/plain": [
       "3.4247579655435723"
      ]
     },
     "execution_count": 8,
     "metadata": {},
     "output_type": "execute_result"
    }
   ],
   "source": [
    "model_7_7 = DayModel(macrophage=4.83E+09, spore=1.62E+10)\n",
    "%time results_7_7 = model_7_7.run(solver=BasicODESolver)\n",
    "%time mean_of_model_7_7 = get_mean(results_7_7[0])\n",
    "mean_of_model_7_7"
   ]
  },
  {
   "cell_type": "code",
   "execution_count": 9,
   "metadata": {},
   "outputs": [
    {
     "name": "stdout",
     "output_type": "stream",
     "text": [
      "Wall time: 95.7 ms\n",
      "4333600414.271852\n",
      "Wall time: 0 ns\n"
     ]
    },
    {
     "data": {
      "text/plain": [
       "2.356597007451587"
      ]
     },
     "execution_count": 9,
     "metadata": {},
     "output_type": "execute_result"
    }
   ],
   "source": [
    "model_8_8 = DayModel(macrophage=1.62E+10, spore=3.36E+10)\n",
    "%time results_8_8 = model_8_8.run(solver=BasicODESolver)\n",
    "%time mean_of_model_8_8 = get_mean(results_8_8[0])\n",
    "mean_of_model_8_8"
   ]
  },
  {
   "cell_type": "code",
   "execution_count": 10,
   "metadata": {},
   "outputs": [
    {
     "name": "stdout",
     "output_type": "stream",
     "text": [
      "Wall time: 171 ms\n",
      "19582241725.38085\n",
      "Wall time: 0 ns\n"
     ]
    },
    {
     "data": {
      "text/plain": [
       "1.7641659193091432"
      ]
     },
     "execution_count": 10,
     "metadata": {},
     "output_type": "execute_result"
    }
   ],
   "source": [
    "model_9_9 = DayModel(macrophage=5.46E+10, spore=6.95E+10)\n",
    "%time results_9_9 = model_9_9.run(solver=BasicODESolver)\n",
    "%time mean_of_model_9_9 = get_mean(results_9_9[0])\n",
    "mean_of_model_9_9"
   ]
  },
  {
   "cell_type": "code",
   "execution_count": 11,
   "metadata": {},
   "outputs": [
    {
     "name": "stdout",
     "output_type": "stream",
     "text": [
      "Wall time: 162 ms\n",
      "10244399583.956244\n",
      "Wall time: 0 ns\n"
     ]
    },
    {
     "data": {
      "text/plain": [
       "2.831051874799908"
      ]
     },
     "execution_count": 11,
     "metadata": {},
     "output_type": "execute_result"
    }
   ],
   "source": [
    "model_9_10 = DayModel(macrophage=5.46E+10, spore=1.44E+11)\n",
    "%time results_9_10 = model_9_10.run(solver=BasicODESolver)\n",
    "%time mean_of_model_9_10 = get_mean(results_9_10[0])\n",
    "mean_of_model_9_10"
   ]
  },
  {
   "cell_type": "code",
   "execution_count": 12,
   "metadata": {},
   "outputs": [
    {
     "name": "stdout",
     "output_type": "stream",
     "text": [
      "Wall time: 174 ms\n",
      "58563074162.69639\n",
      "Wall time: 0 ns\n"
     ]
    },
    {
     "data": {
      "text/plain": [
       "2.0239674673171284"
      ]
     },
     "execution_count": 12,
     "metadata": {},
     "output_type": "execute_result"
    }
   ],
   "source": [
    "model_10_11 = DayModel(macrophage=1.83E+11, spore=2.98E+11)\n",
    "%time results_10_11 = model_10_11.run(solver=BasicODESolver)\n",
    "%time mean_of_model_10_11 = get_mean(results_10_11[0])\n",
    "mean_of_model_10_11"
   ]
  },
  {
   "cell_type": "code",
   "execution_count": 13,
   "metadata": {},
   "outputs": [
    {
     "name": "stdout",
     "output_type": "stream",
     "text": [
      "Wall time: 181 ms\n",
      "18683054370.63667\n",
      "Wall time: 0 ns\n"
     ]
    },
    {
     "data": {
      "text/plain": [
       "3.5242671950249207"
      ]
     },
     "execution_count": 13,
     "metadata": {},
     "output_type": "execute_result"
    }
   ],
   "source": [
    "model_10_12 = DayModel(macrophage=1.8E+11, spore=6.16E+11)\n",
    "%time results_10_12 = model_10_12.run(solver=BasicODESolver)\n",
    "%time mean_of_model_10_12 = get_mean(results_10_12[0])\n",
    "mean_of_model_10_12"
   ]
  },
  {
   "cell_type": "code",
   "execution_count": 14,
   "metadata": {
    "scrolled": false
   },
   "outputs": [
    {
     "data": {
      "text/plain": [
       "[{'time': array([  0.,  10.,  20.,  30.,  40.,  50.,  60.,  70.,  80.,  90., 100.,\n",
       "         110., 120., 130., 140., 150., 160., 170., 180., 190., 200.]),\n",
       "  'S_': array([ 6.16000000e+11, -1.18825421e-09,  1.41996363e-12,  2.19642174e-10,\n",
       "          1.00303749e-10,  4.95392788e-13,  2.13616379e-09,  1.69121813e-11,\n",
       "         -5.30973228e-09, -4.80353286e-09, -1.61419521e-11,  4.37865178e-12,\n",
       "         -6.52301462e-10,  2.11121994e-09,  1.06587895e-12,  1.83605946e-11,\n",
       "         -2.23336780e-10, -1.60449563e-10,  4.75676034e-12, -1.03511199e-11,\n",
       "          5.38136247e-11]),\n",
       "  'A_': array([1.80000000e+11, 5.21190477e+09, 5.21190477e+09, 5.21190477e+09,\n",
       "         5.21190477e+09, 5.21190477e+09, 5.21190477e+09, 5.21190477e+09,\n",
       "         5.21190477e+09, 5.21190477e+09, 5.21190477e+09, 5.21190477e+09,\n",
       "         5.21190477e+09, 5.21190477e+09, 5.21190477e+09, 5.21190477e+09,\n",
       "         5.21190477e+09, 5.21190477e+09, 5.21190477e+09, 5.21190477e+09,\n",
       "         5.21190477e+09]),\n",
       "  'H1': array([0.00000000e+00, 1.12307540e+10, 6.81179672e+09, 4.13156361e+09,\n",
       "         2.50592000e+09, 1.51991727e+09, 9.21876430e+08, 5.59146314e+08,\n",
       "         3.39139394e+08, 2.05698438e+08, 1.24762408e+08, 7.56722259e+07,\n",
       "         4.58975251e+07, 2.78382561e+07, 1.68847552e+07, 1.02411220e+07,\n",
       "         6.21155440e+06, 3.76749818e+06, 2.28510307e+06, 1.38598511e+06,\n",
       "         8.40642448e+05]),\n",
       "  'H2': array([0.00000000e+00, 1.98590780e+10, 1.20451398e+10, 7.30574671e+09,\n",
       "         4.43115937e+09, 2.68763395e+09, 1.63013240e+09, 9.88725269e+08,\n",
       "         5.99692211e+08, 3.63731707e+08, 2.20614430e+08, 1.33809416e+08,\n",
       "         8.11595137e+07, 4.92257332e+07, 2.98569153e+07, 1.81091351e+07,\n",
       "         1.09837455e+07, 6.66197838e+06, 4.04069400e+06, 2.45080485e+06,\n",
       "         1.48648826e+06]),\n",
       "  'H3': array([0.00000000e+00, 2.34353108e+10, 1.42142347e+10, 8.62136925e+09,\n",
       "         5.22912478e+09, 3.17162442e+09, 1.92368746e+09, 1.16677541e+09,\n",
       "         7.07685086e+08, 4.29232696e+08, 2.60342788e+08, 1.57905883e+08,\n",
       "         9.57747597e+07, 5.80903280e+07, 3.52335636e+07, 2.13702372e+07,\n",
       "         1.29617039e+07, 7.86167079e+06, 4.76834420e+06, 2.89214702e+06,\n",
       "         1.75417581e+06]),\n",
       "  'H4': array([0.00000000e+00, 2.07469176e+10, 1.25836418e+10, 7.63236466e+09,\n",
       "         4.62926317e+09, 2.80778997e+09, 1.70301071e+09, 1.03292820e+09,\n",
       "         6.26502645e+08, 3.79993057e+08, 2.30477437e+08, 1.39791633e+08,\n",
       "         8.47879113e+07, 5.14264676e+07, 3.11917281e+07, 1.89187400e+07,\n",
       "         1.14747957e+07, 6.95981539e+06, 4.22134127e+06, 2.56037296e+06,\n",
       "         1.55294468e+06]),\n",
       "  'H5': array([0.00000000e+00, 1.46950055e+10, 8.91297148e+09, 5.40599054e+09,\n",
       "         3.27889901e+09, 1.98875273e+09, 1.20623951e+09, 7.31621238e+08,\n",
       "         4.43750728e+08, 2.69148418e+08, 1.63246766e+08, 9.90141690e+07,\n",
       "         6.00551293e+07, 3.64252771e+07, 2.20930465e+07, 1.34001105e+07,\n",
       "         8.12757772e+06, 4.92962506e+06, 2.98996863e+06, 1.81350769e+06,\n",
       "         1.09994800e+06]),\n",
       "  'H6': array([0.00000000e+00, 1.61637946e+10, 9.80383716e+09, 5.94632789e+09,\n",
       "         3.60663018e+09, 2.18753173e+09, 1.32680507e+09, 8.04747944e+08,\n",
       "         4.88104319e+08, 2.96050230e+08, 1.79563540e+08, 1.08910793e+08,\n",
       "         6.60577350e+07, 4.00660415e+07, 2.43012816e+07, 1.47394728e+07,\n",
       "         8.93994204e+06, 5.42234893e+06, 3.28882076e+06, 1.99477067e+06,\n",
       "         1.20988955e+06]),\n",
       "  'HLN1': array([0.00000000e+00, 7.45314103e+09, 1.18720983e+10, 1.45523314e+10,\n",
       "         1.61779750e+10, 1.71639777e+10, 1.77620186e+10, 1.81247487e+10,\n",
       "         1.83447556e+10, 1.84781966e+10, 1.85591326e+10, 1.86082228e+10,\n",
       "         1.86379975e+10, 1.86560568e+10, 1.86670103e+10, 1.86736539e+10,\n",
       "         1.86776835e+10, 1.86801275e+10, 1.86816099e+10, 1.86825090e+10,\n",
       "         1.86830544e+10]),\n",
       "  'HLN2': array([0.00000000e+00, 1.29472332e+10, 2.07611713e+10, 2.55005645e+10,\n",
       "         2.83751518e+10, 3.01186772e+10, 3.11761788e+10, 3.18175859e+10,\n",
       "         3.22066190e+10, 3.24425795e+10, 3.25856968e+10, 3.26725018e+10,\n",
       "         3.27251517e+10, 3.27570854e+10, 3.27764543e+10, 3.27882020e+10,\n",
       "         3.27953274e+10, 3.27996492e+10, 3.28022705e+10, 3.28038604e+10,\n",
       "         3.28048247e+10]),\n",
       "  'HLN3': array([0.00000000e+00, 1.51542528e+10, 2.43753288e+10, 2.99681943e+10,\n",
       "         3.33604387e+10, 3.54179391e+10, 3.66658760e+10, 3.74227881e+10,\n",
       "         3.78818784e+10, 3.81603308e+10, 3.83292207e+10, 3.84316576e+10,\n",
       "         3.84937887e+10, 3.85314732e+10, 3.85543299e+10, 3.85681933e+10,\n",
       "         3.85766018e+10, 3.85817018e+10, 3.85847952e+10, 3.85866714e+10,\n",
       "         3.85878093e+10]),\n",
       "  'HLN4': array([0.00000000e+00, 1.33507359e+10, 2.15140117e+10, 2.64652889e+10,\n",
       "         2.94683904e+10, 3.12898636e+10, 3.23946428e+10, 3.30647253e+10,\n",
       "         3.34711509e+10, 3.37176605e+10, 3.38671761e+10, 3.39578619e+10,\n",
       "         3.40128656e+10, 3.40462271e+10, 3.40664618e+10, 3.40787348e+10,\n",
       "         3.40861787e+10, 3.40906937e+10, 3.40934322e+10, 3.40950932e+10,\n",
       "         3.40961006e+10]),\n",
       "  'HLN5': array([0.00000000e+00, 9.42484854e+09, 1.52068825e+10, 1.87138635e+10,\n",
       "         2.08409550e+10, 2.21311013e+10, 2.29136145e+10, 2.33882328e+10,\n",
       "         2.36761033e+10, 2.38507056e+10, 2.39566072e+10, 2.40208398e+10,\n",
       "         2.40597989e+10, 2.40834287e+10, 2.40977610e+10, 2.41064539e+10,\n",
       "         2.41117264e+10, 2.41149244e+10, 2.41168640e+10, 2.41180405e+10,\n",
       "         2.41187541e+10]),\n",
       "  'HLN6': array([0.00000000e+00, 1.03270234e+10, 1.66869808e+10, 2.05444901e+10,\n",
       "         2.28841878e+10, 2.43032863e+10, 2.51640129e+10, 2.56860701e+10,\n",
       "         2.60027137e+10, 2.61947678e+10, 2.63112545e+10, 2.63819072e+10,\n",
       "         2.64247603e+10, 2.64507520e+10, 2.64665167e+10, 2.64760785e+10,\n",
       "         2.64818781e+10, 2.64853957e+10, 2.64875292e+10, 2.64888232e+10,\n",
       "         2.64896081e+10])}]"
      ]
     },
     "execution_count": 14,
     "metadata": {},
     "output_type": "execute_result"
    }
   ],
   "source": [
    "results_10_12"
   ]
  },
  {
   "cell_type": "code",
   "execution_count": null,
   "metadata": {},
   "outputs": [],
   "source": []
  },
  {
   "cell_type": "code",
   "execution_count": 15,
   "metadata": {},
   "outputs": [
    {
     "name": "stdout",
     "output_type": "stream",
     "text": [
      "Wall time: 133 ms\n",
      "0.0\n",
      "Wall time: 0 ns\n"
     ]
    },
    {
     "name": "stderr",
     "output_type": "stream",
     "text": [
      "C:\\Users\\devgruseal\\Anaconda3\\lib\\site-packages\\scipy\\integrate\\odepack.py:236: ODEintWarning: Excess work done on this call (perhaps wrong Dfun type). Run with full_output = 1 to get quantitative information.\n",
      "  warnings.warn(warning_msg, ODEintWarning)\n",
      "C:\\Users\\devgruseal\\Anaconda3\\lib\\site-packages\\ipykernel_launcher.py:22: RuntimeWarning: invalid value encountered in double_scalars\n"
     ]
    },
    {
     "data": {
      "text/plain": [
       "nan"
      ]
     },
     "execution_count": 15,
     "metadata": {},
     "output_type": "execute_result"
    }
   ],
   "source": [
    "model_10_13 = DayModel(macrophage=1.83E+11, spore=1.27E+12)\n",
    "%time results_10_13 = model_10_13.run(solver=BasicODESolver)\n",
    "%time mean_of_model_10_13 = get_mean(results_10_13[0])\n",
    "mean_of_model_10_13"
   ]
  },
  {
   "cell_type": "code",
   "execution_count": 16,
   "metadata": {},
   "outputs": [
    {
     "name": "stdout",
     "output_type": "stream",
     "text": [
      "Wall time: 196 ms\n",
      "27331773718.462917\n",
      "Wall time: 0 ns\n"
     ]
    },
    {
     "data": {
      "text/plain": [
       "4.32658163822152"
      ]
     },
     "execution_count": 16,
     "metadata": {},
     "output_type": "execute_result"
    }
   ],
   "source": [
    "model_11_14 = DayModel(macrophage=6.16E+11, spore=2.64E+12)\n",
    "%time results_11_14 = model_11_14.run(solver=BasicODESolver)\n",
    "%time mean_of_model_11_14 = get_mean(results_11_14[0])\n",
    "mean_of_model_11_14"
   ]
  },
  {
   "cell_type": "code",
   "execution_count": 17,
   "metadata": {},
   "outputs": [
    {
     "name": "stdout",
     "output_type": "stream",
     "text": [
      "Wall time: 125 ms\n",
      "0.0\n",
      "Wall time: 0 ns\n"
     ]
    },
    {
     "name": "stderr",
     "output_type": "stream",
     "text": [
      "C:\\Users\\devgruseal\\Anaconda3\\lib\\site-packages\\ipykernel_launcher.py:22: RuntimeWarning: invalid value encountered in double_scalars\n"
     ]
    },
    {
     "data": {
      "text/plain": [
       "nan"
      ]
     },
     "execution_count": 17,
     "metadata": {},
     "output_type": "execute_result"
    }
   ],
   "source": [
    "model_11_15 = DayModel(macrophage=6.16E+11, spore=5.46E+12)\n",
    "%time results_11_15 = model_11_15.run(solver=BasicODESolver)\n",
    "%time mean_of_model_11_15 = get_mean(results_11_15[0])\n",
    "mean_of_model_11_15"
   ]
  },
  {
   "cell_type": "code",
   "execution_count": 18,
   "metadata": {},
   "outputs": [
    {
     "name": "stdout",
     "output_type": "stream",
     "text": [
      "Wall time: 118 ms\n",
      "0.0\n",
      "Wall time: 0 ns\n"
     ]
    },
    {
     "name": "stderr",
     "output_type": "stream",
     "text": [
      "C:\\Users\\devgruseal\\Anaconda3\\lib\\site-packages\\ipykernel_launcher.py:22: RuntimeWarning: invalid value encountered in double_scalars\n"
     ]
    },
    {
     "data": {
      "text/plain": [
       "nan"
      ]
     },
     "execution_count": 18,
     "metadata": {},
     "output_type": "execute_result"
    }
   ],
   "source": [
    "model_12_16 = DayModel(macrophage=2.07E+12, spore=1.13E+13)\n",
    "%time results_12_16 = model_12_16.run(solver=BasicODESolver)\n",
    "%time mean_of_model_12_16 = get_mean(results_12_16[0])\n",
    "mean_of_model_12_16"
   ]
  },
  {
   "cell_type": "code",
   "execution_count": 19,
   "metadata": {},
   "outputs": [
    {
     "name": "stdout",
     "output_type": "stream",
     "text": [
      "Wall time: 128 ms\n",
      "0.0\n",
      "Wall time: 0 ns\n"
     ]
    },
    {
     "name": "stderr",
     "output_type": "stream",
     "text": [
      "C:\\Users\\devgruseal\\Anaconda3\\lib\\site-packages\\ipykernel_launcher.py:22: RuntimeWarning: invalid value encountered in double_scalars\n"
     ]
    },
    {
     "data": {
      "text/plain": [
       "nan"
      ]
     },
     "execution_count": 19,
     "metadata": {},
     "output_type": "execute_result"
    }
   ],
   "source": [
    "model_13_17 = DayModel(macrophage=6.95E+12, spore=2.34E+13)\n",
    "%time results_13_17 = model_13_17.run(solver=BasicODESolver)\n",
    "%time mean_of_model_13_17 = get_mean(results_13_17[0])\n",
    "mean_of_model_13_17"
   ]
  },
  {
   "cell_type": "code",
   "execution_count": 20,
   "metadata": {},
   "outputs": [
    {
     "name": "stdout",
     "output_type": "stream",
     "text": [
      "Wall time: 108 ms\n",
      "0.0\n",
      "Wall time: 0 ns\n"
     ]
    },
    {
     "name": "stderr",
     "output_type": "stream",
     "text": [
      "C:\\Users\\devgruseal\\Anaconda3\\lib\\site-packages\\ipykernel_launcher.py:22: RuntimeWarning: invalid value encountered in double_scalars\n"
     ]
    },
    {
     "data": {
      "text/plain": [
       "nan"
      ]
     },
     "execution_count": 20,
     "metadata": {},
     "output_type": "execute_result"
    }
   ],
   "source": [
    "model_13_18 = DayModel(macrophage=6.95E+12, spore=4.83E+13)\n",
    "%time results_13_18 = model_13_18.run(solver=BasicODESolver)\n",
    "%time mean_of_model_13_18 = get_mean(results_13_18[0])\n",
    "mean_of_model_13_18"
   ]
  },
  {
   "cell_type": "code",
   "execution_count": 21,
   "metadata": {},
   "outputs": [
    {
     "name": "stdout",
     "output_type": "stream",
     "text": [
      "Wall time: 111 ms\n",
      "0.0\n",
      "Wall time: 0 ns\n"
     ]
    },
    {
     "name": "stderr",
     "output_type": "stream",
     "text": [
      "C:\\Users\\devgruseal\\Anaconda3\\lib\\site-packages\\ipykernel_launcher.py:22: RuntimeWarning: invalid value encountered in double_scalars\n"
     ]
    },
    {
     "data": {
      "text/plain": [
       "nan"
      ]
     },
     "execution_count": 21,
     "metadata": {},
     "output_type": "execute_result"
    }
   ],
   "source": [
    "model_14_19 = DayModel(macrophage=2.34E+13, spore=1.00E+14)\n",
    "%time results_14_19 = model_14_19.run(solver=BasicODESolver)\n",
    "%time mean_of_model_14_19 = get_mean(results_14_19[0])\n",
    "mean_of_model_14_19"
   ]
  },
  {
   "cell_type": "code",
   "execution_count": 22,
   "metadata": {},
   "outputs": [
    {
     "name": "stdout",
     "output_type": "stream",
     "text": [
      "Wall time: 155 ms\n",
      "5092911512951.831\n",
      "Wall time: 0 ns\n"
     ]
    },
    {
     "data": {
      "text/plain": [
       "1.0351799695592754"
      ]
     },
     "execution_count": 22,
     "metadata": {},
     "output_type": "execute_result"
    }
   ],
   "source": [
    "# THIS IS ONE OF THE OUTLIERS\n",
    "model_15_15 = DayModel(macrophage=7.85E+13, spore=5.46E+12)\n",
    "%time results_15_15 = model_15_15.run(solver=BasicODESolver)\n",
    "%time mean_of_model_15_15 = get_mean(results_15_15[0])\n",
    "mean_of_model_15_15"
   ]
  },
  {
   "cell_type": "code",
   "execution_count": 23,
   "metadata": {},
   "outputs": [
    {
     "name": "stdout",
     "output_type": "stream",
     "text": [
      "Wall time: 125 ms\n",
      "0.0\n",
      "Wall time: 0 ns\n"
     ]
    },
    {
     "name": "stderr",
     "output_type": "stream",
     "text": [
      "C:\\Users\\devgruseal\\Anaconda3\\lib\\site-packages\\ipykernel_launcher.py:22: RuntimeWarning: invalid value encountered in double_scalars\n"
     ]
    },
    {
     "data": {
      "text/plain": [
       "nan"
      ]
     },
     "execution_count": 23,
     "metadata": {},
     "output_type": "execute_result"
    }
   ],
   "source": [
    "# THIS IS ONE OF THE OUTLIERS\n",
    "model_18_18 = DayModel(macrophage=2.48E+15, spore=4.83e13)\n",
    "%time results_18_18 = model_18_18.run(solver=BasicODESolver)\n",
    "%time mean_of_model_18_18 = get_mean(results_18_18[0])\n",
    "mean_of_model_18_18"
   ]
  },
  {
   "cell_type": "code",
   "execution_count": 24,
   "metadata": {},
   "outputs": [
    {
     "name": "stdout",
     "output_type": "stream",
     "text": [
      "18683054370.63667\n"
     ]
    },
    {
     "data": {
      "image/png": "[encoded data removed]",
      "text/plain": [
       "<Figure size 432x288 with 1 Axes>"
      ]
     },
     "metadata": {
      "needs_background": "light"
     },
     "output_type": "display_data"
    },
    {
     "name": "stdout",
     "output_type": "stream",
     "text": [
      "Mean: \t3.5242671950249207\n",
      "STD:  \t1.5657297784191382\n",
      "SEM:  \t3.745163275998034e-06\n"
     ]
    }
   ],
   "source": [
    "res = results_10_12[0]\n",
    "data = [\n",
    "    res['HLN1'][-1],\n",
    "    res['HLN2'][-1],\n",
    "    res['HLN3'][-1],\n",
    "    res['HLN4'][-1],\n",
    "    res['HLN5'][-1],\n",
    "    res['HLN6'][-1]\n",
    "]\n",
    "x = [1,2,3,4,5,6]\n",
    "\n",
    "\n",
    "mean = get_mean(res)\n",
    "sd = get_std(res)\n",
    "sem = get_sem(res)\n",
    "\n",
    "plt.bar(x,data)\n",
    "plt.xlabel('HLN')\n",
    "plt.ylabel('Count')\n",
    "plt.show()\n",
    "\n",
    "# plt.hist(data3, bins=x,edgecolor=\"black\")\n",
    "# plt.xlabel('HLN')\n",
    "# plt.ylabel('Count')\n",
    "# plt.show()\n",
    "\n",
    "print(\"Mean: \\t{}\".format(mean))\n",
    "print(\"STD:  \\t{}\".format(sd))\n",
    "print(\"SEM:  \\t{}\".format(sem))"
   ]
  },
  {
   "cell_type": "code",
   "execution_count": 25,
   "metadata": {},
   "outputs": [
    {
     "data": {
      "text/plain": [
       "<matplotlib.legend.Legend at 0x2719003add8>"
      ]
     },
     "execution_count": 25,
     "metadata": {},
     "output_type": "execute_result"
    },
    {
     "data": {
      "image/png": "[encoded data removed]",
      "text/plain": [
       "<Figure size 1296x720 with 1 Axes>"
      ]
     },
     "metadata": {
      "needs_background": "light"
     },
     "output_type": "display_data"
    }
   ],
   "source": [
    "fig = plt.figure(figsize=(18,10))\n",
    "fig.suptitle(\"Spores available\", fontsize=20)\n",
    "\n",
    "plt.plot(results_10_12[0]['time'], results_10_12[0]['S_'], 'g-', label='Spore')\n",
    "\n",
    "plt.xlabel(\"Time in Hours\", fontsize=12)\n",
    "plt.ylabel(\"Number of Cells\", fontsize=12)\n",
    "plt.legend(loc='best', fontsize=12)\n",
    "# print(\"Initial spores: {}\".format(results['S_'][0]))\n",
    "# print(\"Spores remaining: {}\".format(results['S_'][-1]))\n",
    "# print(\"Spores at 5 hours: {}\".format(results['S_'][100]))\n"
   ]
  },
  {
   "cell_type": "code",
   "execution_count": 26,
   "metadata": {},
   "outputs": [
    {
     "name": "stdout",
     "output_type": "stream",
     "text": [
      "Lung Hosts at end:\n",
      "H1: 840642.4484040104\n",
      "H2: 1486488.2607662533\n",
      "H3: 1754175.8141093024\n",
      "H4: 1552944.677942254\n",
      "H5: 1099947.999250373\n",
      "H6: 1209889.5511757298\n"
     ]
    },
    {
     "data": {
      "image/png": "[encoded data removed]",
      "text/plain": [
       "<Figure size 1296x720 with 1 Axes>"
      ]
     },
     "metadata": {
      "needs_background": "light"
     },
     "output_type": "display_data"
    }
   ],
   "source": [
    "res = results_10_12[0]\n",
    "fig = plt.figure(figsize=(18,10))\n",
    "fig.suptitle(\"Anthrax-infected Cells in Lung\", fontsize=20)\n",
    "\n",
    "#plt.plot(results[0]['time'], results[0]['S_'], 'g-', label='Spore')\n",
    "plt.plot(res['time'], res['H1'], 'r-', label='H1')\n",
    "plt.plot(res['time'], res['H2'], 'g-', label='H2')\n",
    "plt.plot(res['time'], res['H3'], 'b-', label='H3')\n",
    "plt.plot(res['time'], res['H4'], 'k-', label='H4')\n",
    "plt.plot(res['time'], res['H5'], 'm-', label='H5')\n",
    "plt.plot(res['time'], res['H6'], 'y-', label='H6')\n",
    "\n",
    "plt.xlabel(\"Time in Hours\", fontsize=12)\n",
    "plt.ylabel(\"Number of Cells\", fontsize=12)\n",
    "plt.legend(loc='best', fontsize=12)\n",
    "\n",
    "print(\"Lung Hosts at end:\")\n",
    "print(\"H1: {}\".format(res['H1'][-1]))\n",
    "print(\"H2: {}\".format(res['H2'][-1]))\n",
    "print(\"H3: {}\".format(res['H3'][-1]))\n",
    "print(\"H4: {}\".format(res['H4'][-1]))\n",
    "print(\"H5: {}\".format(res['H5'][-1]))\n",
    "print(\"H6: {}\".format(res['H6'][-1]))\n",
    "\n",
    "\n"
   ]
  },
  {
   "cell_type": "code",
   "execution_count": 27,
   "metadata": {
    "scrolled": false
   },
   "outputs": [
    {
     "name": "stdout",
     "output_type": "stream",
     "text": [
      "k2 = 1.00e-10, k3 = 5.00e-02\n",
      "Lung Hosts at end:\n",
      "H1: 840642.4484040104\n",
      "H2: 1486488.2607662533\n",
      "H3: 1754175.8141093024\n",
      "H4: 1552944.677942254\n",
      "H5: 1099947.999250373\n",
      "H6: 1209889.5511757298\n",
      "Lymph Node Hosts at end:\n",
      "HLN1: 18683054370.63667\n",
      "HLN2: 32804824693.14906\n",
      "HLN3: 38587809331.57812\n",
      "HLN4: 34096100579.520245\n",
      "HLN5: 24118754051.590508\n",
      "HLN6: 26489608111.644928\n"
     ]
    },
    {
     "data": {
      "image/png": "[encoded data removed]",
      "text/plain": [
       "<Figure size 1296x720 with 1 Axes>"
      ]
     },
     "metadata": {
      "needs_background": "light"
     },
     "output_type": "display_data"
    }
   ],
   "source": [
    "fig = plt.figure(figsize=(18,10))\n",
    "fig.suptitle(\"Migration to TMLN\", fontsize=20)\n",
    "res = results_10_12[0]\n",
    "\n",
    "#plt.plot(results[0]['time'], results[0]['S_'], 'b', label='Spores')\n",
    "plt.plot(res['time'], res['HLN1'], 'r-', label='HLN1')\n",
    "plt.plot(res['time'], res['HLN2'], 'g-', label='HLN2')\n",
    "plt.plot(res['time'], res['HLN3'], 'b-', label='HLN3')\n",
    "plt.plot(res['time'], res['HLN4'], 'k-', label='HLN4')\n",
    "plt.plot(res['time'], res['HLN5'], 'm-', label='HLN5')\n",
    "plt.plot(res['time'], res['HLN6'], 'y-', label='HLN6')\n",
    "\n",
    "plt.xlabel(\"Time in Hours\", fontsize=12)\n",
    "plt.ylabel(\"Number of Cells\", fontsize=12)\n",
    "plt.legend(loc='best', fontsize=12)\n",
    "\n",
    "print(\"k2 = {:.2e}, k3 = {:.2e}\".format(float(model_10_12.listOfParameters['k2'].expression), float(model_10_12.listOfParameters['k3'].expression)))\n",
    "\n",
    "print(\"Lung Hosts at end:\")\n",
    "print(\"H1: {}\".format(res['H1'][-1]))\n",
    "print(\"H2: {}\".format(res['H2'][-1]))\n",
    "print(\"H3: {}\".format(res['H3'][-1]))\n",
    "print(\"H4: {}\".format(res['H4'][-1]))\n",
    "print(\"H5: {}\".format(res['H5'][-1]))\n",
    "print(\"H6: {}\".format(res['H6'][-1]))\n",
    "\n",
    "print(\"Lymph Node Hosts at end:\")\n",
    "print(\"HLN1: {}\".format(res['HLN1'][-1]))\n",
    "print(\"HLN2: {}\".format(res['HLN2'][-1]))\n",
    "print(\"HLN3: {}\".format(res['HLN3'][-1]))\n",
    "print(\"HLN4: {}\".format(res['HLN4'][-1]))\n",
    "print(\"HLN5: {}\".format(res['HLN5'][-1]))\n",
    "print(\"HLN6: {}\".format(res['HLN6'][-1]))"
   ]
  },
  {
   "cell_type": "code",
   "execution_count": null,
   "metadata": {},
   "outputs": [],
   "source": []
  },
  {
   "cell_type": "code",
   "execution_count": null,
   "metadata": {},
   "outputs": [],
   "source": []
  },
  {
   "cell_type": "code",
   "execution_count": null,
   "metadata": {},
   "outputs": [],
   "source": []
  },
  {
   "cell_type": "code",
   "execution_count": null,
   "metadata": {},
   "outputs": [],
   "source": []
  },
  {
   "cell_type": "code",
   "execution_count": null,
   "metadata": {},
   "outputs": [],
   "source": []
  }
 ],
 "metadata": {
  "kernelspec": {
   "display_name": "Python 3",
   "language": "python",
   "name": "python3"
  },
  "language_info": {
   "codemirror_mode": {
    "name": "ipython",
    "version": 3
   },
   "file_extension": ".py",
   "mimetype": "text/x-python",
   "name": "python",
   "nbconvert_exporter": "python",
   "pygments_lexer": "ipython3",
   "version": "3.7.1"
  }
 },
 "nbformat": 4,
 "nbformat_minor": 2
}
