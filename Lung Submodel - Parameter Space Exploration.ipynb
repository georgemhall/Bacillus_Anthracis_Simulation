{
 "cells": [
  {
   "cell_type": "code",
   "execution_count": 1,
   "metadata": {},
   "outputs": [],
   "source": [
    "#%matplotlib\n",
    "%matplotlib inline\n",
    "import numpy\n",
    "import matplotlib.pyplot as plt\n",
    "import sys, os\n",
    "sys.path.append(os.path.abspath(os.path.join(os.getcwd(), os.pardir)))\n",
    "import math, gillespy2\n",
    "from gillespy2.solvers.cpp.ssa_c_solver import SSACSolver\n",
    "from gillespy2.solvers.numpy.basic_ode_solver import BasicODESolver\n",
    "from scipy import stats"
   ]
  },
  {
   "cell_type": "code",
   "execution_count": 2,
   "metadata": {},
   "outputs": [],
   "source": [
    "class DayModel(gillespy2.Model):\n",
    "    def __init__(self, parameter_values=None, init_v=0, spore=1.61e9, macrophage=1e6):\n",
    "        # initialize\n",
    "        gillespy2.Model.__init__(self, name=\"Macrophage\")\n",
    "        \n",
    "        # species\n",
    "        #S_ = gillespy2.Species(name='S_', initial_value=3.256e6) # low = 4e3; mid = 2e4; high = 1e7\n",
    "        S_ = gillespy2.Species(name='S_', initial_value=spore) # low = 4e3; mid = 2e4; high = 1e7\n",
    "        \n",
    "        #A_ = gillespy2.Species(name='A_', initial_value=1e6) # A = Sa/(k2*S+MuA)\n",
    "        A_ = gillespy2.Species(name='A_', initial_value=macrophage) # A = Sa/(k2*S+MuA)\n",
    "        \n",
    "        H1 = gillespy2.Species(name='H1', initial_value=0)\n",
    "        H2 = gillespy2.Species(name='H2', initial_value=0)\n",
    "        H3 = gillespy2.Species(name='H3', initial_value=0)\n",
    "        H4 = gillespy2.Species(name='H4', initial_value=0)\n",
    "        H5 = gillespy2.Species(name='H5', initial_value=0)\n",
    "        H6 = gillespy2.Species(name='H6', initial_value=0)\n",
    "        \n",
    "        HLN1 = gillespy2.Species(name='HLN1', initial_value=0)\n",
    "        HLN2 = gillespy2.Species(name='HLN2', initial_value=0)\n",
    "        HLN3 = gillespy2.Species(name='HLN3', initial_value=0)\n",
    "        HLN4 = gillespy2.Species(name='HLN4', initial_value=0)\n",
    "        HLN5 = gillespy2.Species(name='HLN5', initial_value=0)\n",
    "        HLN6 = gillespy2.Species(name='HLN6', initial_value=0)\n",
    "        \n",
    "        self.add_species([S_,A_,H1,H2,H3,H4,H5,H6,HLN1,HLN2,HLN3,HLN4,HLN5,HLN6])\n",
    "        \n",
    "        # parameters        \n",
    "        # rate of phagocytosis\n",
    "        k2 = gillespy2.Parameter(name='k2', expression=1e-10)\n",
    "        \n",
    "        # migration to TMLN\n",
    "        k3 = gillespy2.Parameter(name='k3', expression=0.05)\n",
    "        \n",
    "        self.add_parameter([k2,k3])\n",
    "        \n",
    "        # reactions\n",
    "        R1 = gillespy2.Reaction(\n",
    "            name='R1',\n",
    "            reactants={S_:1, A_:1},\n",
    "            products={H1:1},\n",
    "            rate=k2\n",
    "        )\n",
    "        \n",
    "        R2 = gillespy2.Reaction(\n",
    "            name='R2',\n",
    "            reactants={S_:1, H1:1},\n",
    "            products={H2:1},\n",
    "            rate=k2\n",
    "        )\n",
    "        \n",
    "        R3 = gillespy2.Reaction(\n",
    "            name='R3',\n",
    "            reactants={S_:1, H2:1},\n",
    "            products={H3:1},\n",
    "            rate=k2\n",
    "        )\n",
    "        \n",
    "        R4 = gillespy2.Reaction(\n",
    "            name='R4',\n",
    "            reactants={S_:1, H3:1},\n",
    "            products={H4:1},\n",
    "            rate=k2\n",
    "        )\n",
    "        \n",
    "        R5 = gillespy2.Reaction(\n",
    "            name='R5',\n",
    "            reactants={S_:1, H4:1},\n",
    "            products={H5:1},\n",
    "            rate=k2\n",
    "        )\n",
    "        \n",
    "        R6 = gillespy2.Reaction(\n",
    "            name='R6',\n",
    "            reactants={S_:1, H5:1},\n",
    "            products={H6:1},\n",
    "            rate=k2\n",
    "        )\n",
    "        \n",
    "        # To the lung\n",
    "        R7 = gillespy2.Reaction(\n",
    "            name='R7',\n",
    "            reactants={H1:1},\n",
    "            products={HLN1:1},\n",
    "            rate=k3\n",
    "        )\n",
    "        \n",
    "        R8 = gillespy2.Reaction(\n",
    "            name='R8',\n",
    "            reactants={H2:1},\n",
    "            products={HLN2:1},\n",
    "            rate=k3\n",
    "        )\n",
    "        \n",
    "        R9 = gillespy2.Reaction(\n",
    "            name='R9',\n",
    "            reactants={H3:1},\n",
    "            products={HLN3:1},\n",
    "            rate=k3\n",
    "        )\n",
    "        \n",
    "        R10 = gillespy2.Reaction(\n",
    "            name='R10',\n",
    "            reactants={H4:1},\n",
    "            products={HLN4:1},\n",
    "            rate=k3\n",
    "        )\n",
    "        \n",
    "        R11 = gillespy2.Reaction(\n",
    "            name='R11',\n",
    "            reactants={H5:1},\n",
    "            products={HLN5:1},\n",
    "            rate=k3\n",
    "        )\n",
    "        \n",
    "        R12 = gillespy2.Reaction(\n",
    "            name='R12',\n",
    "            reactants={H6:1},\n",
    "            products={HLN6:1},\n",
    "            rate=k3\n",
    "        )\n",
    "                \n",
    "        self.add_reaction([R1,R2,R3,R4,R5,R6,R7,R8,R9,R10,R11,R12])\n",
    "        t = numpy.linspace(0,200,21)\n",
    "        self.timespan(t)\n",
    "        #print(t)"
   ]
  },
  {
   "cell_type": "code",
   "execution_count": 3,
   "metadata": {},
   "outputs": [],
   "source": [
    "def get_mean(results):\n",
    "    num =  (\n",
    "        (1*results['HLN1'][-1]) +\n",
    "        (2*results['HLN2'][-1]) +\n",
    "        (3*results['HLN3'][-1]) +\n",
    "        (4*results['HLN4'][-1]) +\n",
    "        (5*results['HLN5'][-1]) +\n",
    "        (6*results['HLN6'][-1])\n",
    "    )\n",
    "\n",
    "    div = (\n",
    "        results['HLN1'][-1] +\n",
    "        results['HLN2'][-1] +\n",
    "        results['HLN3'][-1] +\n",
    "        results['HLN4'][-1] +\n",
    "        results['HLN5'][-1] +\n",
    "        results['HLN6'][-1]\n",
    "    )\n",
    "    \n",
    "    weighted_avg = num / div\n",
    "    return weighted_avg\n",
    "\n",
    "def get_std(results):\n",
    "    num =  (\n",
    "        (1*results['HLN1'][-1]) +\n",
    "        (2*results['HLN2'][-1]) +\n",
    "        (3*results['HLN3'][-1]) +\n",
    "        (4*results['HLN4'][-1]) +\n",
    "        (5*results['HLN5'][-1]) +\n",
    "        (6*results['HLN6'][-1])\n",
    "    )\n",
    "    \n",
    "    num_sq =  (\n",
    "        (1*results['HLN1'][-1]) +\n",
    "        (4*results['HLN2'][-1]) +\n",
    "        (9*results['HLN3'][-1]) +\n",
    "        (16*results['HLN4'][-1]) +\n",
    "        (25*results['HLN5'][-1]) +\n",
    "        (36*results['HLN6'][-1])\n",
    "    )\n",
    "\n",
    "    div = (\n",
    "        results['HLN1'][-1] +\n",
    "        results['HLN2'][-1] +\n",
    "        results['HLN3'][-1] +\n",
    "        results['HLN4'][-1] +\n",
    "        results['HLN5'][-1] +\n",
    "        results['HLN6'][-1]\n",
    "    )\n",
    "    \n",
    "    weighted_avg = num / div\n",
    "    var_x = (num_sq / div) - weighted_avg**2\n",
    "    return numpy.sqrt(var_x)\n",
    "\n",
    "def get_sem(results):\n",
    "    n = (\n",
    "        results['HLN1'][-1] +\n",
    "        results['HLN2'][-1] +\n",
    "        results['HLN3'][-1] +\n",
    "        results['HLN4'][-1] +\n",
    "        results['HLN5'][-1] +\n",
    "        results['HLN6'][-1]\n",
    "    )\n",
    "    return get_std(results)/numpy.sqrt(n)"
   ]
  },
  {
   "cell_type": "code",
   "execution_count": 4,
   "metadata": {},
   "outputs": [
    {
     "name": "stdout",
     "output_type": "stream",
     "text": [
      "CPU times: user 62.5 ms, sys: 0 ns, total: 62.5 ms\n",
      "Wall time: 54 ms\n",
      "CPU times: user 0 ns, sys: 0 ns, total: 0 ns\n",
      "Wall time: 13.6 µs\n"
     ]
    },
    {
     "data": {
      "text/plain": [
       "3.3622306328426506"
      ]
     },
     "execution_count": 4,
     "metadata": {},
     "output_type": "execute_result"
    }
   ],
   "source": [
    "model_4_4 = DayModel(macrophage=1.27E+08, spore=1.83E+09)\n",
    "%time results_4_4 = model_4_4.run(solver=BasicODESolver)\n",
    "%time mean_of_model_4_4 = get_mean(results_4_4[0])\n",
    "mean_of_model_4_4"
   ]
  },
  {
   "cell_type": "code",
   "execution_count": 5,
   "metadata": {},
   "outputs": [
    {
     "name": "stdout",
     "output_type": "stream",
     "text": [
      "CPU times: user 62.5 ms, sys: 0 ns, total: 62.5 ms\n",
      "Wall time: 54.1 ms\n",
      "CPU times: user 0 ns, sys: 0 ns, total: 0 ns\n",
      "Wall time: 14.8 µs\n"
     ]
    },
    {
     "data": {
      "text/plain": [
       "3.382484724005341"
      ]
     },
     "execution_count": 5,
     "metadata": {},
     "output_type": "execute_result"
    }
   ],
   "source": [
    "model1 = DayModel(macrophage=1.15E+08, spore=1.83E+09)\n",
    "%time results1 = model1.run(solver=BasicODESolver)\n",
    "%time mean_of_model1 = get_mean(results1[0])\n",
    "mean_of_model1"
   ]
  },
  {
   "cell_type": "code",
   "execution_count": 6,
   "metadata": {},
   "outputs": [
    {
     "name": "stdout",
     "output_type": "stream",
     "text": [
      "CPU times: user 62.5 ms, sys: 0 ns, total: 62.5 ms\n",
      "Wall time: 55.8 ms\n",
      "CPU times: user 0 ns, sys: 0 ns, total: 0 ns\n",
      "Wall time: 14.3 µs\n"
     ]
    },
    {
     "data": {
      "text/plain": [
       "2.5889930194196924"
      ]
     },
     "execution_count": 6,
     "metadata": {},
     "output_type": "execute_result"
    }
   ],
   "source": [
    "model_6_5 = DayModel(macrophage=1.44E+09, spore=3.79E+09)\n",
    "%time results_6_5 = model_6_5.run(solver=BasicODESolver)\n",
    "%time mean_of_model_6_5 = get_mean(results_6_5[0])\n",
    "mean_of_model_6_5"
   ]
  },
  {
   "cell_type": "code",
   "execution_count": 7,
   "metadata": {},
   "outputs": [
    {
     "name": "stdout",
     "output_type": "stream",
     "text": [
      "CPU times: user 62.5 ms, sys: 0 ns, total: 62.5 ms\n",
      "Wall time: 69 ms\n",
      "CPU times: user 0 ns, sys: 0 ns, total: 0 ns\n",
      "Wall time: 12.6 µs\n"
     ]
    },
    {
     "data": {
      "text/plain": [
       "4.47733696064419"
      ]
     },
     "execution_count": 7,
     "metadata": {},
     "output_type": "execute_result"
    }
   ],
   "source": [
    "model_6_6 = DayModel(macrophage=1.44E+09, spore=7.85E+09)\n",
    "%time results_6_6 = model_6_6.run(solver=BasicODESolver)\n",
    "%time mean_of_model_6_6 = get_mean(results_6_6[0])\n",
    "mean_of_model_6_6"
   ]
  },
  {
   "cell_type": "code",
   "execution_count": 8,
   "metadata": {},
   "outputs": [
    {
     "name": "stdout",
     "output_type": "stream",
     "text": [
      "CPU times: user 46.9 ms, sys: 0 ns, total: 46.9 ms\n",
      "Wall time: 59.5 ms\n",
      "CPU times: user 0 ns, sys: 0 ns, total: 0 ns\n",
      "Wall time: 14.5 µs\n"
     ]
    },
    {
     "data": {
      "text/plain": [
       "3.424779154990626"
      ]
     },
     "execution_count": 8,
     "metadata": {},
     "output_type": "execute_result"
    }
   ],
   "source": [
    "model_7_7 = DayModel(macrophage=4.83E+09, spore=1.62E+10)\n",
    "%time results_7_7 = model_7_7.run(solver=BasicODESolver)\n",
    "%time mean_of_model_7_7 = get_mean(results_7_7[0])\n",
    "mean_of_model_7_7"
   ]
  },
  {
   "cell_type": "code",
   "execution_count": 9,
   "metadata": {},
   "outputs": [
    {
     "name": "stdout",
     "output_type": "stream",
     "text": [
      "CPU times: user 93.8 ms, sys: 0 ns, total: 93.8 ms\n",
      "Wall time: 88.4 ms\n",
      "CPU times: user 0 ns, sys: 0 ns, total: 0 ns\n",
      "Wall time: 13.6 µs\n"
     ]
    },
    {
     "data": {
      "text/plain": [
       "2.3565960205479386"
      ]
     },
     "execution_count": 9,
     "metadata": {},
     "output_type": "execute_result"
    }
   ],
   "source": [
    "model_8_8 = DayModel(macrophage=1.62E+10, spore=3.36E+10)\n",
    "%time results_8_8 = model_8_8.run(solver=BasicODESolver)\n",
    "%time mean_of_model_8_8 = get_mean(results_8_8[0])\n",
    "mean_of_model_8_8"
   ]
  },
  {
   "cell_type": "code",
   "execution_count": 10,
   "metadata": {},
   "outputs": [
    {
     "name": "stdout",
     "output_type": "stream",
     "text": [
      "CPU times: user 156 ms, sys: 0 ns, total: 156 ms\n",
      "Wall time: 152 ms\n",
      "CPU times: user 0 ns, sys: 0 ns, total: 0 ns\n",
      "Wall time: 14.5 µs\n"
     ]
    },
    {
     "data": {
      "text/plain": [
       "1.7641657802703286"
      ]
     },
     "execution_count": 10,
     "metadata": {},
     "output_type": "execute_result"
    }
   ],
   "source": [
    "model_9_9 = DayModel(macrophage=5.46E+10, spore=6.95E+10)\n",
    "%time results_9_9 = model_9_9.run(solver=BasicODESolver)\n",
    "%time mean_of_model_9_9 = get_mean(results_9_9[0])\n",
    "mean_of_model_9_9"
   ]
  },
  {
   "cell_type": "code",
   "execution_count": 11,
   "metadata": {},
   "outputs": [
    {
     "name": "stdout",
     "output_type": "stream",
     "text": [
      "CPU times: user 125 ms, sys: 0 ns, total: 125 ms\n",
      "Wall time: 110 ms\n",
      "CPU times: user 0 ns, sys: 0 ns, total: 0 ns\n",
      "Wall time: 15 µs\n"
     ]
    },
    {
     "data": {
      "text/plain": [
       "2.831051466258199"
      ]
     },
     "execution_count": 11,
     "metadata": {},
     "output_type": "execute_result"
    }
   ],
   "source": [
    "model_9_10 = DayModel(macrophage=5.46E+10, spore=1.44E+11)\n",
    "%time results_9_10 = model_9_10.run(solver=BasicODESolver)\n",
    "%time mean_of_model_9_10 = get_mean(results_9_10[0])\n",
    "mean_of_model_9_10"
   ]
  },
  {
   "cell_type": "code",
   "execution_count": 12,
   "metadata": {},
   "outputs": [
    {
     "name": "stdout",
     "output_type": "stream",
     "text": [
      "CPU times: user 141 ms, sys: 0 ns, total: 141 ms\n",
      "Wall time: 138 ms\n",
      "CPU times: user 0 ns, sys: 0 ns, total: 0 ns\n",
      "Wall time: 14.3 µs\n"
     ]
    },
    {
     "data": {
      "text/plain": [
       "2.023967408773207"
      ]
     },
     "execution_count": 12,
     "metadata": {},
     "output_type": "execute_result"
    }
   ],
   "source": [
    "model_10_11 = DayModel(macrophage=1.83E+11, spore=2.98E+11)\n",
    "%time results_10_11 = model_10_11.run(solver=BasicODESolver)\n",
    "%time mean_of_model_10_11 = get_mean(results_10_11[0])\n",
    "mean_of_model_10_11"
   ]
  },
  {
   "cell_type": "code",
   "execution_count": 90,
   "metadata": {},
   "outputs": [
    {
     "name": "stdout",
     "output_type": "stream",
     "text": [
      "CPU times: user 156 ms, sys: 0 ns, total: 156 ms\n",
      "Wall time: 153 ms\n",
      "CPU times: user 0 ns, sys: 0 ns, total: 0 ns\n",
      "Wall time: 18.1 µs\n"
     ]
    },
    {
     "data": {
      "text/plain": [
       "3.5242670097675406"
      ]
     },
     "execution_count": 90,
     "metadata": {},
     "output_type": "execute_result"
    }
   ],
   "source": [
    "model_10_12 = DayModel(macrophage=1.8E+11, spore=6.16E+11)\n",
    "%time results_10_12 = model_10_12.run(solver=BasicODESolver)\n",
    "%time mean_of_model_10_12 = get_mean(results_10_12[0])\n",
    "mean_of_model_10_12"
   ]
  },
  {
   "cell_type": "code",
   "execution_count": 91,
   "metadata": {
    "scrolled": false
   },
   "outputs": [
    {
     "data": {
      "text/plain": [
       "[{'time': [0.0,\n",
       "   10.0,\n",
       "   20.0,\n",
       "   30.0,\n",
       "   40.0,\n",
       "   50.0,\n",
       "   60.0,\n",
       "   70.0,\n",
       "   80.0,\n",
       "   90.0,\n",
       "   100.0,\n",
       "   110.0,\n",
       "   120.0,\n",
       "   130.0,\n",
       "   140.0,\n",
       "   150.0,\n",
       "   160.0,\n",
       "   170.0,\n",
       "   180.0,\n",
       "   190.0],\n",
       "  'S_': [616000000000.0,\n",
       "   -1.1882542071954578e-09,\n",
       "   1.4199636269498184e-12,\n",
       "   2.1964217448641963e-10,\n",
       "   1.0030374933326836e-10,\n",
       "   4.953927880001017e-13,\n",
       "   2.136163787119444e-09,\n",
       "   1.691218131344505e-11,\n",
       "   -5.309732283122172e-09,\n",
       "   -4.803532857643774e-09,\n",
       "   -1.6141952082902146e-11,\n",
       "   4.378651782245802e-12,\n",
       "   -6.523014616181686e-10,\n",
       "   2.1112199377089436e-09,\n",
       "   1.0658789545616847e-12,\n",
       "   1.836059463073631e-11,\n",
       "   -2.2333678013331916e-10,\n",
       "   -1.6044956303883599e-10,\n",
       "   4.756760336804988e-12,\n",
       "   -1.0351119938459314e-11],\n",
       "  'A_': [180000000000.0,\n",
       "   5211904773.12862,\n",
       "   5211904773.12862,\n",
       "   5211904773.12862,\n",
       "   5211904773.12862,\n",
       "   5211904773.12862,\n",
       "   5211904773.12862,\n",
       "   5211904773.12862,\n",
       "   5211904773.12862,\n",
       "   5211904773.12862,\n",
       "   5211904773.12862,\n",
       "   5211904773.12862,\n",
       "   5211904773.12862,\n",
       "   5211904773.12862,\n",
       "   5211904773.12862,\n",
       "   5211904773.12862,\n",
       "   5211904773.12862,\n",
       "   5211904773.12862,\n",
       "   5211904773.12862,\n",
       "   5211904773.12862],\n",
       "  'H1': [0.0,\n",
       "   11230753982.000944,\n",
       "   6811796715.209505,\n",
       "   4131563605.914134,\n",
       "   2505919999.026851,\n",
       "   1519917271.726251,\n",
       "   921876430.292882,\n",
       "   559146313.5817972,\n",
       "   339139394.43187505,\n",
       "   205698437.6649399,\n",
       "   124762407.84429222,\n",
       "   75672225.89995816,\n",
       "   45897525.11483641,\n",
       "   27838256.11116944,\n",
       "   16884755.166068904,\n",
       "   10241122.012694001,\n",
       "   6211554.403116202,\n",
       "   3767498.1788728964,\n",
       "   2285103.0735945306,\n",
       "   1385985.1085153685],\n",
       "  'H2': [0.0,\n",
       "   19859078000.989716,\n",
       "   12045139846.445951,\n",
       "   7305746706.534191,\n",
       "   4431159368.700539,\n",
       "   2687633947.1631207,\n",
       "   1630132399.4632213,\n",
       "   988725269.3080897,\n",
       "   599692211.0505606,\n",
       "   363731707.1335189,\n",
       "   220614430.067825,\n",
       "   133809416.45273584,\n",
       "   81159513.66833578,\n",
       "   49225733.2329833,\n",
       "   29856915.253238868,\n",
       "   18109135.076210435,\n",
       "   10983745.489979833,\n",
       "   6661978.378542791,\n",
       "   4040693.9953937093,\n",
       "   2450804.8544495883],\n",
       "  'H3': [0.0,\n",
       "   23435310751.7236,\n",
       "   14214234685.787567,\n",
       "   8621369246.471426,\n",
       "   5229124775.618135,\n",
       "   3171624419.598439,\n",
       "   1923687461.5210977,\n",
       "   1166775412.8948932,\n",
       "   707685085.9167625,\n",
       "   429232695.82324576,\n",
       "   260342787.5501675,\n",
       "   157905883.4413349,\n",
       "   95774759.6933462,\n",
       "   58090328.02222332,\n",
       "   35233563.56285313,\n",
       "   21370237.2252518,\n",
       "   12961703.899984265,\n",
       "   7861670.794315488,\n",
       "   4768344.201576522,\n",
       "   2892147.0248012724],\n",
       "  'H4': [0.0,\n",
       "   20746917620.849407,\n",
       "   12583641804.184982,\n",
       "   7632364658.203299,\n",
       "   4629263170.359838,\n",
       "   2807789973.633848,\n",
       "   1703010713.8435857,\n",
       "   1032928200.9449141,\n",
       "   626502645.2844853,\n",
       "   379993057.2614668,\n",
       "   230477437.38957506,\n",
       "   139791632.8190302,\n",
       "   84787911.30893609,\n",
       "   51426467.641635396,\n",
       "   31191728.09234932,\n",
       "   18918740.01362235,\n",
       "   11474795.69986233,\n",
       "   6959815.385418127,\n",
       "   4221341.265154204,\n",
       "   2560372.9648229005],\n",
       "  'H5': [0.0,\n",
       "   14695005464.009304,\n",
       "   8912971480.823927,\n",
       "   5405990538.223244,\n",
       "   3278899006.8776174,\n",
       "   1988752727.4353104,\n",
       "   1206239510.0103216,\n",
       "   731621238.113991,\n",
       "   443750727.88739747,\n",
       "   269148417.8416592,\n",
       "   163246765.79267237,\n",
       "   99014169.02692312,\n",
       "   60055129.284103364,\n",
       "   36425277.08449013,\n",
       "   22093046.45275784,\n",
       "   13400110.462335266,\n",
       "   8127577.7245296575,\n",
       "   4929625.064613731,\n",
       "   2989968.634885307,\n",
       "   1813507.6928325826],\n",
       "  'H6': [0.0,\n",
       "   16163794631.647951,\n",
       "   9803837155.870417,\n",
       "   5946327890.417264,\n",
       "   3606630177.5041485,\n",
       "   2187531725.5325246,\n",
       "   1326805067.4863071,\n",
       "   804747944.4624916,\n",
       "   488104318.8982415,\n",
       "   296050230.2690946,\n",
       "   179563539.66768575,\n",
       "   108910792.69716787,\n",
       "   66057734.970074,\n",
       "   40066041.46126905,\n",
       "   24301281.583355427,\n",
       "   14739472.815105014,\n",
       "   8939942.044513624,\n",
       "   5422348.930090215,\n",
       "   3288820.7553050523,\n",
       "   1994770.6710047019],\n",
       "  'HLN1': [0.0,\n",
       "   7453141031.084107,\n",
       "   11872098297.875547,\n",
       "   14552331407.170916,\n",
       "   16177975014.058203,\n",
       "   17163977741.358807,\n",
       "   17762018582.79217,\n",
       "   18124748699.50326,\n",
       "   18344755618.653187,\n",
       "   18478196575.420128,\n",
       "   18559132605.240784,\n",
       "   18608222787.18512,\n",
       "   18637997487.970238,\n",
       "   18656056756.973904,\n",
       "   18667010257.919006,\n",
       "   18673653891.07238,\n",
       "   18677683458.68196,\n",
       "   18680127514.906204,\n",
       "   18681609910.01148,\n",
       "   18682509027.97656],\n",
       "  'HLN2': [0.0,\n",
       "   12947233180.420095,\n",
       "   20761171334.963882,\n",
       "   25500564474.87565,\n",
       "   28375151812.709305,\n",
       "   30118677234.24673,\n",
       "   31176178781.946625,\n",
       "   31817585912.10175,\n",
       "   32206618970.35928,\n",
       "   32442579474.276306,\n",
       "   32585696751.342007,\n",
       "   32672501764.9571,\n",
       "   32725151667.7415,\n",
       "   32757085448.17685,\n",
       "   32776454266.15659,\n",
       "   32788202046.333614,\n",
       "   32795327435.91985,\n",
       "   32799649203.031284,\n",
       "   32802270487.414433,\n",
       "   32803860376.555374],\n",
       "  'HLN3': [0.0,\n",
       "   15154252755.66863,\n",
       "   24375328821.604664,\n",
       "   29968194260.920826,\n",
       "   33360438731.77411,\n",
       "   35417939087.79379,\n",
       "   36665876045.87113,\n",
       "   37422788094.49735,\n",
       "   37881878421.47549,\n",
       "   38160330811.56899,\n",
       "   38329220719.84206,\n",
       "   38431657623.95089,\n",
       "   38493788747.69889,\n",
       "   38531473179.37001,\n",
       "   38554329943.829384,\n",
       "   38568193270.166985,\n",
       "   38576601803.49225,\n",
       "   38581701836.597916,\n",
       "   38584795163.19064,\n",
       "   38586671360.367424],\n",
       "  'HLN4': [0.0,\n",
       "   13350735903.348766,\n",
       "   21514011720.013184,\n",
       "   26465288865.99486,\n",
       "   29468390353.83832,\n",
       "   31289863550.56431,\n",
       "   32394642810.354576,\n",
       "   33064725323.253254,\n",
       "   33471150878.913685,\n",
       "   33717660466.93671,\n",
       "   33867176086.80861,\n",
       "   33957861891.379158,\n",
       "   34012865612.889256,\n",
       "   34046227056.55656,\n",
       "   34066461796.10585,\n",
       "   34078734784.184578,\n",
       "   34086178728.49834,\n",
       "   34090693708.812775,\n",
       "   34093432182.933033,\n",
       "   34095093151.233368],\n",
       "  'HLN5': [0.0,\n",
       "   9424848535.580462,\n",
       "   15206882518.76584,\n",
       "   18713863461.366516,\n",
       "   20840954992.712135,\n",
       "   22131101272.15444,\n",
       "   22913614489.579433,\n",
       "   23388232761.47576,\n",
       "   23676103271.70236,\n",
       "   23850705581.748093,\n",
       "   23956607233.797085,\n",
       "   24020839830.56284,\n",
       "   24059798870.30566,\n",
       "   24083428722.505272,\n",
       "   24097760953.136997,\n",
       "   24106453889.12742,\n",
       "   24111726421.865227,\n",
       "   24114924374.525135,\n",
       "   24116864030.95487,\n",
       "   24118040491.896923],\n",
       "  'HLN6': [0.0,\n",
       "   10327023369.548147,\n",
       "   16686980845.325682,\n",
       "   20544490110.778847,\n",
       "   22884187823.691956,\n",
       "   24303286275.66357,\n",
       "   25164012933.70979,\n",
       "   25686070056.733604,\n",
       "   26002713682.297848,\n",
       "   26194767770.92699,\n",
       "   26311254461.528393,\n",
       "   26381907208.498917,\n",
       "   26424760266.226013,\n",
       "   26450751959.734814,\n",
       "   26466516719.612724,\n",
       "   26476078528.380974,\n",
       "   26481878059.151566,\n",
       "   26485395652.26599,\n",
       "   26487529180.44078,\n",
       "   26488823230.52509]}]"
      ]
     },
     "execution_count": 91,
     "metadata": {},
     "output_type": "execute_result"
    }
   ],
   "source": [
    "results_10_12"
   ]
  },
  {
   "cell_type": "code",
   "execution_count": null,
   "metadata": {},
   "outputs": [],
   "source": []
  },
  {
   "cell_type": "code",
   "execution_count": 14,
   "metadata": {},
   "outputs": [
    {
     "name": "stdout",
     "output_type": "stream",
     "text": [
      "CPU times: user 93.8 ms, sys: 15.6 ms, total: 109 ms\n",
      "Wall time: 98.7 ms\n",
      "CPU times: user 0 ns, sys: 0 ns, total: 0 ns\n",
      "Wall time: 15.3 µs\n"
     ]
    },
    {
     "data": {
      "text/plain": [
       "3.0000000000000004"
      ]
     },
     "execution_count": 14,
     "metadata": {},
     "output_type": "execute_result"
    }
   ],
   "source": [
    "model_10_13 = DayModel(macrophage=1.83E+11, spore=1.27E+12)\n",
    "%time results_10_13 = model_10_13.run(solver=BasicODESolver)\n",
    "%time mean_of_model_10_13 = get_mean(results_10_13[0])\n",
    "mean_of_model_10_13"
   ]
  },
  {
   "cell_type": "code",
   "execution_count": 15,
   "metadata": {},
   "outputs": [
    {
     "name": "stdout",
     "output_type": "stream",
     "text": [
      "CPU times: user 172 ms, sys: 0 ns, total: 172 ms\n",
      "Wall time: 169 ms\n",
      "CPU times: user 0 ns, sys: 0 ns, total: 0 ns\n",
      "Wall time: 13.4 µs\n"
     ]
    },
    {
     "data": {
      "text/plain": [
       "4.326581558538036"
      ]
     },
     "execution_count": 15,
     "metadata": {},
     "output_type": "execute_result"
    }
   ],
   "source": [
    "model_11_14 = DayModel(macrophage=6.16E+11, spore=2.64E+12)\n",
    "%time results_11_14 = model_11_14.run(solver=BasicODESolver)\n",
    "%time mean_of_model_11_14 = get_mean(results_11_14[0])\n",
    "mean_of_model_11_14"
   ]
  },
  {
   "cell_type": "code",
   "execution_count": 16,
   "metadata": {},
   "outputs": [
    {
     "name": "stdout",
     "output_type": "stream",
     "text": [
      "CPU times: user 125 ms, sys: 0 ns, total: 125 ms\n",
      "Wall time: 119 ms\n",
      "CPU times: user 0 ns, sys: 0 ns, total: 0 ns\n",
      "Wall time: 12.6 µs\n"
     ]
    },
    {
     "data": {
      "text/plain": [
       "5.271127216836251"
      ]
     },
     "execution_count": 16,
     "metadata": {},
     "output_type": "execute_result"
    }
   ],
   "source": [
    "model_11_15 = DayModel(macrophage=6.16E+11, spore=5.46E+12)\n",
    "%time results_11_15 = model_11_15.run(solver=BasicODESolver)\n",
    "%time mean_of_model_11_15 = get_mean(results_11_15[0])\n",
    "mean_of_model_11_15"
   ]
  },
  {
   "cell_type": "code",
   "execution_count": 17,
   "metadata": {},
   "outputs": [
    {
     "name": "stdout",
     "output_type": "stream",
     "text": [
      "CPU times: user 93.8 ms, sys: 0 ns, total: 93.8 ms\n",
      "Wall time: 93.6 ms\n",
      "CPU times: user 0 ns, sys: 0 ns, total: 0 ns\n",
      "Wall time: 13.8 µs\n"
     ]
    },
    {
     "data": {
      "text/plain": [
       "5.271127216836251"
      ]
     },
     "execution_count": 17,
     "metadata": {},
     "output_type": "execute_result"
    }
   ],
   "source": [
    "model_12_16 = DayModel(macrophage=2.07E+12, spore=1.13E+13)\n",
    "%time results_12_16 = model_12_16.run(solver=BasicODESolver)\n",
    "%time mean_of_model_12_16 = get_mean(results_12_16[0])\n",
    "mean_of_model_12_16"
   ]
  },
  {
   "cell_type": "code",
   "execution_count": 18,
   "metadata": {},
   "outputs": [
    {
     "name": "stdout",
     "output_type": "stream",
     "text": [
      "CPU times: user 109 ms, sys: 0 ns, total: 109 ms\n",
      "Wall time: 118 ms\n",
      "CPU times: user 0 ns, sys: 0 ns, total: 0 ns\n",
      "Wall time: 14.5 µs\n"
     ]
    },
    {
     "data": {
      "text/plain": [
       "5.271127216836251"
      ]
     },
     "execution_count": 18,
     "metadata": {},
     "output_type": "execute_result"
    }
   ],
   "source": [
    "model_13_17 = DayModel(macrophage=6.95E+12, spore=2.34E+13)\n",
    "%time results_13_17 = model_13_17.run(solver=BasicODESolver)\n",
    "%time mean_of_model_13_17 = get_mean(results_13_17[0])\n",
    "mean_of_model_13_17"
   ]
  },
  {
   "cell_type": "code",
   "execution_count": 19,
   "metadata": {},
   "outputs": [
    {
     "name": "stdout",
     "output_type": "stream",
     "text": [
      "CPU times: user 93.8 ms, sys: 0 ns, total: 93.8 ms\n",
      "Wall time: 95.9 ms\n",
      "CPU times: user 0 ns, sys: 0 ns, total: 0 ns\n",
      "Wall time: 106 µs\n"
     ]
    },
    {
     "name": "stderr",
     "output_type": "stream",
     "text": [
      "/home/george/.local/lib/python3.6/site-packages/ipykernel_launcher.py:20: RuntimeWarning: invalid value encountered in double_scalars\n"
     ]
    },
    {
     "data": {
      "text/plain": [
       "nan"
      ]
     },
     "execution_count": 19,
     "metadata": {},
     "output_type": "execute_result"
    }
   ],
   "source": [
    "model_13_18 = DayModel(macrophage=6.95E+12, spore=4.83E+13)\n",
    "%time results_13_18 = model_13_18.run(solver=BasicODESolver)\n",
    "%time mean_of_model_13_18 = get_mean(results_13_18[0])\n",
    "mean_of_model_13_18"
   ]
  },
  {
   "cell_type": "code",
   "execution_count": 20,
   "metadata": {},
   "outputs": [
    {
     "name": "stdout",
     "output_type": "stream",
     "text": [
      "CPU times: user 109 ms, sys: 0 ns, total: 109 ms\n",
      "Wall time: 104 ms\n",
      "CPU times: user 0 ns, sys: 0 ns, total: 0 ns\n",
      "Wall time: 15.5 µs\n"
     ]
    },
    {
     "data": {
      "text/plain": [
       "3.0000000000000004"
      ]
     },
     "execution_count": 20,
     "metadata": {},
     "output_type": "execute_result"
    }
   ],
   "source": [
    "model_14_19 = DayModel(macrophage=2.34E+13, spore=1.00E+14)\n",
    "%time results_14_19 = model_14_19.run(solver=BasicODESolver)\n",
    "%time mean_of_model_14_19 = get_mean(results_14_19[0])\n",
    "mean_of_model_14_19"
   ]
  },
  {
   "cell_type": "code",
   "execution_count": 21,
   "metadata": {},
   "outputs": [
    {
     "name": "stdout",
     "output_type": "stream",
     "text": [
      "CPU times: user 141 ms, sys: 15.6 ms, total: 156 ms\n",
      "Wall time: 130 ms\n",
      "CPU times: user 0 ns, sys: 0 ns, total: 0 ns\n",
      "Wall time: 13.8 µs\n"
     ]
    },
    {
     "data": {
      "text/plain": [
       "1.0351799695559116"
      ]
     },
     "execution_count": 21,
     "metadata": {},
     "output_type": "execute_result"
    }
   ],
   "source": [
    "# THIS IS ONE OF THE OUTLIERS\n",
    "model_15_15 = DayModel(macrophage=7.85E+13, spore=5.46E+12)\n",
    "%time results_15_15 = model_15_15.run(solver=BasicODESolver)\n",
    "%time mean_of_model_15_15 = get_mean(results_15_15[0])\n",
    "mean_of_model_15_15"
   ]
  },
  {
   "cell_type": "code",
   "execution_count": 22,
   "metadata": {},
   "outputs": [
    {
     "name": "stdout",
     "output_type": "stream",
     "text": [
      "CPU times: user 125 ms, sys: 0 ns, total: 125 ms\n",
      "Wall time: 133 ms\n",
      "CPU times: user 0 ns, sys: 0 ns, total: 0 ns\n",
      "Wall time: 16 µs\n"
     ]
    },
    {
     "data": {
      "text/plain": [
       "3.0000000000000004"
      ]
     },
     "execution_count": 22,
     "metadata": {},
     "output_type": "execute_result"
    }
   ],
   "source": [
    "# THIS IS ONE OF THE OUTLIERS\n",
    "model_18_18 = DayModel(macrophage=2.48E+15, spore=4.83e13)\n",
    "%time results_18_18 = model_18_18.run(solver=BasicODESolver)\n",
    "%time mean_of_model_18_18 = get_mean(results_18_18[0])\n",
    "mean_of_model_18_18"
   ]
  },
  {
   "cell_type": "code",
   "execution_count": 53,
   "metadata": {},
   "outputs": [
    {
     "data": {
      "image/png": "[encoded data removed]",
      "text/plain": [
       "<matplotlib.figure.Figure at 0x7fa4f7c9e128>"
      ]
     },
     "metadata": {
      "needs_background": "light"
     },
     "output_type": "display_data"
    },
    {
     "name": "stdout",
     "output_type": "stream",
     "text": [
      "Mean: \t3.5242670097675406\n",
      "STD:  \t1.5657298021548314\n",
      "SEM:  \t3.7452185482086874e-06\n"
     ]
    }
   ],
   "source": [
    "res = results_10_12[0]\n",
    "data = [\n",
    "    res['HLN1'][-1],\n",
    "    res['HLN2'][-1],\n",
    "    res['HLN3'][-1],\n",
    "    res['HLN4'][-1],\n",
    "    res['HLN5'][-1],\n",
    "    res['HLN6'][-1]\n",
    "]\n",
    "x = [1,2,3,4,5,6]\n",
    "\n",
    "\n",
    "mean = get_mean(res)\n",
    "sd = get_std(res)\n",
    "sem = get_sem(res)\n",
    "\n",
    "plt.bar(x,data)\n",
    "plt.xlabel('HLN')\n",
    "plt.ylabel('Count')\n",
    "plt.show()\n",
    "\n",
    "# plt.hist(data3, bins=x,edgecolor=\"black\")\n",
    "# plt.xlabel('HLN')\n",
    "# plt.ylabel('Count')\n",
    "# plt.show()\n",
    "\n",
    "print(\"Mean: \\t{}\".format(mean))\n",
    "print(\"STD:  \\t{}\".format(sd))\n",
    "print(\"SEM:  \\t{}\".format(sem))"
   ]
  },
  {
   "cell_type": "code",
   "execution_count": 54,
   "metadata": {},
   "outputs": [
    {
     "data": {
      "text/plain": [
       "<matplotlib.legend.Legend at 0x7fa4f7c84748>"
      ]
     },
     "execution_count": 54,
     "metadata": {},
     "output_type": "execute_result"
    },
    {
     "data": {
      "image/png": "[encoded data removed]",
      "text/plain": [
       "<matplotlib.figure.Figure at 0x7fa4f1b47da0>"
      ]
     },
     "metadata": {
      "needs_background": "light"
     },
     "output_type": "display_data"
    }
   ],
   "source": [
    "fig = plt.figure(figsize=(18,10))\n",
    "fig.suptitle(\"Spores available\", fontsize=20)\n",
    "\n",
    "plt.plot(results_10_12[0]['time'], results_10_12[0]['S_'], 'g-', label='Spore')\n",
    "\n",
    "plt.xlabel(\"Time in Hours\", fontsize=12)\n",
    "plt.ylabel(\"Number of Cells\", fontsize=12)\n",
    "plt.legend(loc='best', fontsize=12)\n",
    "# print(\"Initial spores: {}\".format(results['S_'][0]))\n",
    "# print(\"Spores remaining: {}\".format(results['S_'][-1]))\n",
    "# print(\"Spores at 5 hours: {}\".format(results['S_'][100]))\n"
   ]
  },
  {
   "cell_type": "code",
   "execution_count": 55,
   "metadata": {},
   "outputs": [
    {
     "name": "stdout",
     "output_type": "stream",
     "text": [
      "Lung Hosts at end:\n",
      "H1: 1385985.1085153685\n",
      "H2: 2450804.8544495883\n",
      "H3: 2892147.0248012724\n",
      "H4: 2560372.9648229005\n",
      "H5: 1813507.6928325826\n",
      "H6: 1994770.6710047019\n"
     ]
    },
    {
     "data": {
      "image/png": "[encoded data removed]",
      "text/plain": [
       "<matplotlib.figure.Figure at 0x7fa4f7ba1ac8>"
      ]
     },
     "metadata": {
      "needs_background": "light"
     },
     "output_type": "display_data"
    }
   ],
   "source": [
    "res = results_10_12[0]\n",
    "fig = plt.figure(figsize=(18,10))\n",
    "fig.suptitle(\"Anthrax-infected Cells in Lung\", fontsize=20)\n",
    "\n",
    "#plt.plot(results[0]['time'], results[0]['S_'], 'g-', label='Spore')\n",
    "plt.plot(res['time'], res['H1'], 'r-', label='H1')\n",
    "plt.plot(res['time'], res['H2'], 'g-', label='H2')\n",
    "plt.plot(res['time'], res['H3'], 'b-', label='H3')\n",
    "plt.plot(res['time'], res['H4'], 'k-', label='H4')\n",
    "plt.plot(res['time'], res['H5'], 'm-', label='H5')\n",
    "plt.plot(res['time'], res['H6'], 'y-', label='H6')\n",
    "\n",
    "plt.xlabel(\"Time in Hours\", fontsize=12)\n",
    "plt.ylabel(\"Number of Cells\", fontsize=12)\n",
    "plt.legend(loc='best', fontsize=12)\n",
    "\n",
    "print(\"Lung Hosts at end:\")\n",
    "print(\"H1: {}\".format(res['H1'][-1]))\n",
    "print(\"H2: {}\".format(res['H2'][-1]))\n",
    "print(\"H3: {}\".format(res['H3'][-1]))\n",
    "print(\"H4: {}\".format(res['H4'][-1]))\n",
    "print(\"H5: {}\".format(res['H5'][-1]))\n",
    "print(\"H6: {}\".format(res['H6'][-1]))\n",
    "\n",
    "\n"
   ]
  },
  {
   "cell_type": "code",
   "execution_count": 56,
   "metadata": {
    "scrolled": false
   },
   "outputs": [
    {
     "name": "stdout",
     "output_type": "stream",
     "text": [
      "k2 = 1.00e-10, k3 = 5.00e-02\n",
      "Lung Hosts at end:\n",
      "H1: 1385985.1085153685\n",
      "H2: 2450804.8544495883\n",
      "H3: 2892147.0248012724\n",
      "H4: 2560372.9648229005\n",
      "H5: 1813507.6928325826\n",
      "H6: 1994770.6710047019\n",
      "Lymph Node Hosts at end:\n",
      "HLN1: 18682509027.97656\n",
      "HLN2: 32803860376.555374\n",
      "HLN3: 38586671360.367424\n",
      "HLN4: 34095093151.233368\n",
      "HLN5: 24118040491.896923\n",
      "HLN6: 26488823230.52509\n"
     ]
    },
    {
     "data": {
      "image/png": "[encoded data removed]",
      "text/plain": [
       "<matplotlib.figure.Figure at 0x7fa4f7ad0710>"
      ]
     },
     "metadata": {
      "needs_background": "light"
     },
     "output_type": "display_data"
    }
   ],
   "source": [
    "fig = plt.figure(figsize=(18,10))\n",
    "fig.suptitle(\"Migration to TMLN\", fontsize=20)\n",
    "res = results_10_12[0]\n",
    "\n",
    "#plt.plot(results[0]['time'], results[0]['S_'], 'b', label='Spores')\n",
    "plt.plot(res['time'], res['HLN1'], 'r-', label='HLN1')\n",
    "plt.plot(res['time'], res['HLN2'], 'g-', label='HLN2')\n",
    "plt.plot(res['time'], res['HLN3'], 'b-', label='HLN3')\n",
    "plt.plot(res['time'], res['HLN4'], 'k-', label='HLN4')\n",
    "plt.plot(res['time'], res['HLN5'], 'm-', label='HLN5')\n",
    "plt.plot(res['time'], res['HLN6'], 'y-', label='HLN6')\n",
    "\n",
    "plt.xlabel(\"Time in Hours\", fontsize=12)\n",
    "plt.ylabel(\"Number of Cells\", fontsize=12)\n",
    "plt.legend(loc='best', fontsize=12)\n",
    "\n",
    "print(\"k2 = {:.2e}, k3 = {:.2e}\".format(float(model_10_12.listOfParameters['k2'].expression), float(model_10_12.listOfParameters['k3'].expression)))\n",
    "\n",
    "print(\"Lung Hosts at end:\")\n",
    "print(\"H1: {}\".format(res['H1'][-1]))\n",
    "print(\"H2: {}\".format(res['H2'][-1]))\n",
    "print(\"H3: {}\".format(res['H3'][-1]))\n",
    "print(\"H4: {}\".format(res['H4'][-1]))\n",
    "print(\"H5: {}\".format(res['H5'][-1]))\n",
    "print(\"H6: {}\".format(res['H6'][-1]))\n",
    "\n",
    "print(\"Lymph Node Hosts at end:\")\n",
    "print(\"HLN1: {}\".format(res['HLN1'][-1]))\n",
    "print(\"HLN2: {}\".format(res['HLN2'][-1]))\n",
    "print(\"HLN3: {}\".format(res['HLN3'][-1]))\n",
    "print(\"HLN4: {}\".format(res['HLN4'][-1]))\n",
    "print(\"HLN5: {}\".format(res['HLN5'][-1]))\n",
    "print(\"HLN6: {}\".format(res['HLN6'][-1]))"
   ]
  },
  {
   "cell_type": "code",
   "execution_count": null,
   "metadata": {},
   "outputs": [],
   "source": []
  },
  {
   "cell_type": "code",
   "execution_count": null,
   "metadata": {},
   "outputs": [],
   "source": []
  },
  {
   "cell_type": "code",
   "execution_count": null,
   "metadata": {},
   "outputs": [],
   "source": []
  },
  {
   "cell_type": "code",
   "execution_count": null,
   "metadata": {},
   "outputs": [],
   "source": []
  },
  {
   "cell_type": "code",
   "execution_count": null,
   "metadata": {},
   "outputs": [],
   "source": []
  }
 ],
 "metadata": {
  "kernelspec": {
   "display_name": "Python 3",
   "language": "python",
   "name": "python3"
  },
  "language_info": {
   "codemirror_mode": {
    "name": "ipython",
    "version": 3
   },
   "file_extension": ".py",
   "mimetype": "text/x-python",
   "name": "python",
   "nbconvert_exporter": "python",
   "pygments_lexer": "ipython3",
   "version": "3.6.7"
  }
 },
 "nbformat": 4,
 "nbformat_minor": 2
}
