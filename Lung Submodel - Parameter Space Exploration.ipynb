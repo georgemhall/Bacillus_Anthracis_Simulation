{
 "cells": [
  {
   "cell_type": "code",
   "execution_count": 1,
   "metadata": {},
   "outputs": [],
   "source": [
    "#%matplotlib\n",
    "%matplotlib inline\n",
    "import numpy\n",
    "import matplotlib.pyplot as plt\n",
    "import sys, os\n",
    "sys.path.append(os.path.abspath(os.path.join(os.getcwd(), os.pardir)))\n",
    "import math, gillespy2\n",
    "from gillespy2.solvers.cpp.ssa_c_solver import SSACSolver\n",
    "from gillespy2.solvers.numpy.basic_ode_solver import BasicODESolver\n",
    "from scipy import stats"
   ]
  },
  {
   "cell_type": "code",
   "execution_count": 2,
   "metadata": {},
   "outputs": [],
   "source": [
    "class DayModel(gillespy2.Model):\n",
    "    def __init__(self, parameter_values=None, init_v=0, spore=1.61e9, macrophage=1e6):\n",
    "        # initialize\n",
    "        gillespy2.Model.__init__(self, name=\"Macrophage\")\n",
    "        \n",
    "        # species\n",
    "        #S_ = gillespy2.Species(name='S_', initial_value=3.256e6) # low = 4e3; mid = 2e4; high = 1e7\n",
    "        S_ = gillespy2.Species(name='S_', initial_value=spore) # low = 4e3; mid = 2e4; high = 1e7\n",
    "        \n",
    "        #A_ = gillespy2.Species(name='A_', initial_value=1e6) # A = Sa/(k2*S+MuA)\n",
    "        A_ = gillespy2.Species(name='A_', initial_value=macrophage) # A = Sa/(k2*S+MuA)\n",
    "        \n",
    "        H1 = gillespy2.Species(name='H1', initial_value=0)\n",
    "        H2 = gillespy2.Species(name='H2', initial_value=0)\n",
    "        H3 = gillespy2.Species(name='H3', initial_value=0)\n",
    "        H4 = gillespy2.Species(name='H4', initial_value=0)\n",
    "        H5 = gillespy2.Species(name='H5', initial_value=0)\n",
    "        H6 = gillespy2.Species(name='H6', initial_value=0)\n",
    "        \n",
    "        HLN1 = gillespy2.Species(name='HLN1', initial_value=0)\n",
    "        HLN2 = gillespy2.Species(name='HLN2', initial_value=0)\n",
    "        HLN3 = gillespy2.Species(name='HLN3', initial_value=0)\n",
    "        HLN4 = gillespy2.Species(name='HLN4', initial_value=0)\n",
    "        HLN5 = gillespy2.Species(name='HLN5', initial_value=0)\n",
    "        HLN6 = gillespy2.Species(name='HLN6', initial_value=0)\n",
    "        \n",
    "        self.add_species([S_,A_,H1,H2,H3,H4,H5,H6,HLN1,HLN2,HLN3,HLN4,HLN5,HLN6])\n",
    "        \n",
    "        # parameters        \n",
    "        # rate of phagocytosis\n",
    "        k2 = gillespy2.Parameter(name='k2', expression=1e-10)\n",
    "        \n",
    "        # migration to TMLN\n",
    "        k3 = gillespy2.Parameter(name='k3', expression=0.05)\n",
    "        \n",
    "        self.add_parameter([k2,k3])\n",
    "        \n",
    "        # reactions\n",
    "        R1 = gillespy2.Reaction(\n",
    "            name='R1',\n",
    "            reactants={S_:1, A_:1},\n",
    "            products={H1:1},\n",
    "            rate=k2\n",
    "        )\n",
    "        \n",
    "        R2 = gillespy2.Reaction(\n",
    "            name='R2',\n",
    "            reactants={S_:1, H1:1},\n",
    "            products={H2:1},\n",
    "            rate=k2\n",
    "        )\n",
    "        \n",
    "        R3 = gillespy2.Reaction(\n",
    "            name='R3',\n",
    "            reactants={S_:1, H2:1},\n",
    "            products={H3:1},\n",
    "            rate=k2\n",
    "        )\n",
    "        \n",
    "        R4 = gillespy2.Reaction(\n",
    "            name='R4',\n",
    "            reactants={S_:1, H3:1},\n",
    "            products={H4:1},\n",
    "            rate=k2\n",
    "        )\n",
    "        \n",
    "        R5 = gillespy2.Reaction(\n",
    "            name='R5',\n",
    "            reactants={S_:1, H4:1},\n",
    "            products={H5:1},\n",
    "            rate=k2\n",
    "        )\n",
    "        \n",
    "        R6 = gillespy2.Reaction(\n",
    "            name='R6',\n",
    "            reactants={S_:1, H5:1},\n",
    "            products={H6:1},\n",
    "            rate=k2\n",
    "        )\n",
    "        \n",
    "        # To the lung\n",
    "        R7 = gillespy2.Reaction(\n",
    "            name='R7',\n",
    "            reactants={H1:1},\n",
    "            products={HLN1:1},\n",
    "            rate=k3\n",
    "        )\n",
    "        \n",
    "        R8 = gillespy2.Reaction(\n",
    "            name='R8',\n",
    "            reactants={H2:1},\n",
    "            products={HLN2:1},\n",
    "            rate=k3\n",
    "        )\n",
    "        \n",
    "        R9 = gillespy2.Reaction(\n",
    "            name='R9',\n",
    "            reactants={H3:1},\n",
    "            products={HLN3:1},\n",
    "            rate=k3\n",
    "        )\n",
    "        \n",
    "        R10 = gillespy2.Reaction(\n",
    "            name='R10',\n",
    "            reactants={H4:1},\n",
    "            products={HLN4:1},\n",
    "            rate=k3\n",
    "        )\n",
    "        \n",
    "        R11 = gillespy2.Reaction(\n",
    "            name='R11',\n",
    "            reactants={H5:1},\n",
    "            products={HLN5:1},\n",
    "            rate=k3\n",
    "        )\n",
    "        \n",
    "        R12 = gillespy2.Reaction(\n",
    "            name='R12',\n",
    "            reactants={H6:1},\n",
    "            products={HLN6:1},\n",
    "            rate=k3\n",
    "        )\n",
    "                \n",
    "        self.add_reaction([R1,R2,R3,R4,R5,R6,R7,R8,R9,R10,R11,R12])\n",
    "        t = numpy.linspace(0,200,21)\n",
    "        self.timespan(t)\n",
    "        #print(t)"
   ]
  },
  {
   "cell_type": "code",
   "execution_count": 3,
   "metadata": {},
   "outputs": [],
   "source": [
    "def get_mean(results):\n",
    "    num =  (\n",
    "        (1*results['HLN1'][-1]) +\n",
    "        (2*results['HLN2'][-1]) +\n",
    "        (3*results['HLN3'][-1]) +\n",
    "        (4*results['HLN4'][-1]) +\n",
    "        (5*results['HLN5'][-1]) +\n",
    "        (6*results['HLN6'][-1])\n",
    "    )\n",
    "\n",
    "    div = (\n",
    "        results['HLN1'][-1] +\n",
    "        results['HLN2'][-1] +\n",
    "        results['HLN3'][-1] +\n",
    "        results['HLN4'][-1] +\n",
    "        results['HLN5'][-1] +\n",
    "        results['HLN6'][-1]\n",
    "    )\n",
    "    \n",
    "    weighted_avg = num / div\n",
    "    return weighted_avg\n",
    "\n",
    "def get_std(results):\n",
    "    num =  (\n",
    "        (1*results['HLN1'][-1]) +\n",
    "        (2*results['HLN2'][-1]) +\n",
    "        (3*results['HLN3'][-1]) +\n",
    "        (4*results['HLN4'][-1]) +\n",
    "        (5*results['HLN5'][-1]) +\n",
    "        (6*results['HLN6'][-1])\n",
    "    )\n",
    "    \n",
    "    num_sq =  (\n",
    "        (1*results['HLN1'][-1]) +\n",
    "        (4*results['HLN2'][-1]) +\n",
    "        (9*results['HLN3'][-1]) +\n",
    "        (16*results['HLN4'][-1]) +\n",
    "        (25*results['HLN5'][-1]) +\n",
    "        (36*results['HLN6'][-1])\n",
    "    )\n",
    "\n",
    "    div = (\n",
    "        results['HLN1'][-1] +\n",
    "        results['HLN2'][-1] +\n",
    "        results['HLN3'][-1] +\n",
    "        results['HLN4'][-1] +\n",
    "        results['HLN5'][-1] +\n",
    "        results['HLN6'][-1]\n",
    "    )\n",
    "    \n",
    "    weighted_avg = num / div\n",
    "    var_x = (num_sq / div) - weighted_avg**2\n",
    "    return numpy.sqrt(var_x)\n",
    "\n",
    "def get_sem(results):\n",
    "    n = (\n",
    "        results['HLN1'][-1] +\n",
    "        results['HLN2'][-1] +\n",
    "        results['HLN3'][-1] +\n",
    "        results['HLN4'][-1] +\n",
    "        results['HLN5'][-1] +\n",
    "        results['HLN6'][-1]\n",
    "    )\n",
    "    return get_std(results)/numpy.sqrt(n)"
   ]
  },
  {
   "cell_type": "code",
   "execution_count": 4,
   "metadata": {},
   "outputs": [
    {
     "name": "stdout",
     "output_type": "stream",
     "text": [
      "CPU times: user 46.9 ms, sys: 0 ns, total: 46.9 ms\n",
      "Wall time: 52.5 ms\n",
      "CPU times: user 0 ns, sys: 0 ns, total: 0 ns\n",
      "Wall time: 13.8 µs\n"
     ]
    },
    {
     "data": {
      "text/plain": [
       "3.3622306328426506"
      ]
     },
     "execution_count": 4,
     "metadata": {},
     "output_type": "execute_result"
    }
   ],
   "source": [
    "model_4_4 = DayModel(macrophage=1.27E+08, spore=1.83E+09)\n",
    "%time results_4_4 = model_4_4.run(solver=BasicODESolver)\n",
    "%time mean_of_model_4_4 = get_mean(results_4_4[0])\n",
    "mean_of_model_4_4"
   ]
  },
  {
   "cell_type": "code",
   "execution_count": 5,
   "metadata": {},
   "outputs": [
    {
     "name": "stdout",
     "output_type": "stream",
     "text": [
      "CPU times: user 62.5 ms, sys: 0 ns, total: 62.5 ms\n",
      "Wall time: 66.4 ms\n",
      "CPU times: user 0 ns, sys: 0 ns, total: 0 ns\n",
      "Wall time: 13.6 µs\n"
     ]
    },
    {
     "data": {
      "text/plain": [
       "3.382484724005341"
      ]
     },
     "execution_count": 5,
     "metadata": {},
     "output_type": "execute_result"
    }
   ],
   "source": [
    "model1 = DayModel(macrophage=1.15E+08, spore=1.83E+09)\n",
    "%time results1 = model1.run(solver=BasicODESolver)\n",
    "%time mean_of_model1 = get_mean(results1[0])\n",
    "mean_of_model1"
   ]
  },
  {
   "cell_type": "code",
   "execution_count": 6,
   "metadata": {},
   "outputs": [
    {
     "name": "stdout",
     "output_type": "stream",
     "text": [
      "CPU times: user 46.9 ms, sys: 0 ns, total: 46.9 ms\n",
      "Wall time: 47.7 ms\n",
      "CPU times: user 0 ns, sys: 0 ns, total: 0 ns\n",
      "Wall time: 14.1 µs\n"
     ]
    },
    {
     "data": {
      "text/plain": [
       "2.5889930194196924"
      ]
     },
     "execution_count": 6,
     "metadata": {},
     "output_type": "execute_result"
    }
   ],
   "source": [
    "model_6_5 = DayModel(macrophage=1.44E+09, spore=3.79E+09)\n",
    "%time results_6_5 = model_6_5.run(solver=BasicODESolver)\n",
    "%time mean_of_model_6_5 = get_mean(results_6_5[0])\n",
    "mean_of_model_6_5"
   ]
  },
  {
   "cell_type": "code",
   "execution_count": 7,
   "metadata": {},
   "outputs": [
    {
     "name": "stdout",
     "output_type": "stream",
     "text": [
      "CPU times: user 78.1 ms, sys: 15.6 ms, total: 93.8 ms\n",
      "Wall time: 69.4 ms\n",
      "CPU times: user 0 ns, sys: 0 ns, total: 0 ns\n",
      "Wall time: 14.1 µs\n"
     ]
    },
    {
     "data": {
      "text/plain": [
       "4.47733696064419"
      ]
     },
     "execution_count": 7,
     "metadata": {},
     "output_type": "execute_result"
    }
   ],
   "source": [
    "model_6_6 = DayModel(macrophage=1.44E+09, spore=7.85E+09)\n",
    "%time results_6_6 = model_6_6.run(solver=BasicODESolver)\n",
    "%time mean_of_model_6_6 = get_mean(results_6_6[0])\n",
    "mean_of_model_6_6"
   ]
  },
  {
   "cell_type": "code",
   "execution_count": 8,
   "metadata": {},
   "outputs": [
    {
     "name": "stdout",
     "output_type": "stream",
     "text": [
      "CPU times: user 62.5 ms, sys: 0 ns, total: 62.5 ms\n",
      "Wall time: 61.3 ms\n",
      "CPU times: user 0 ns, sys: 0 ns, total: 0 ns\n",
      "Wall time: 12.6 µs\n"
     ]
    },
    {
     "data": {
      "text/plain": [
       "3.424779154990626"
      ]
     },
     "execution_count": 8,
     "metadata": {},
     "output_type": "execute_result"
    }
   ],
   "source": [
    "model_7_7 = DayModel(macrophage=4.83E+09, spore=1.62E+10)\n",
    "%time results_7_7 = model_7_7.run(solver=BasicODESolver)\n",
    "%time mean_of_model_7_7 = get_mean(results_7_7[0])\n",
    "mean_of_model_7_7"
   ]
  },
  {
   "cell_type": "code",
   "execution_count": 9,
   "metadata": {},
   "outputs": [
    {
     "name": "stdout",
     "output_type": "stream",
     "text": [
      "CPU times: user 93.8 ms, sys: 0 ns, total: 93.8 ms\n",
      "Wall time: 88.1 ms\n",
      "CPU times: user 0 ns, sys: 0 ns, total: 0 ns\n",
      "Wall time: 13.8 µs\n"
     ]
    },
    {
     "data": {
      "text/plain": [
       "2.3565960205479386"
      ]
     },
     "execution_count": 9,
     "metadata": {},
     "output_type": "execute_result"
    }
   ],
   "source": [
    "model_8_8 = DayModel(macrophage=1.62E+10, spore=3.36E+10)\n",
    "%time results_8_8 = model_8_8.run(solver=BasicODESolver)\n",
    "%time mean_of_model_8_8 = get_mean(results_8_8[0])\n",
    "mean_of_model_8_8"
   ]
  },
  {
   "cell_type": "code",
   "execution_count": 10,
   "metadata": {},
   "outputs": [
    {
     "name": "stdout",
     "output_type": "stream",
     "text": [
      "CPU times: user 156 ms, sys: 0 ns, total: 156 ms\n",
      "Wall time: 154 ms\n",
      "CPU times: user 0 ns, sys: 0 ns, total: 0 ns\n",
      "Wall time: 14.3 µs\n"
     ]
    },
    {
     "data": {
      "text/plain": [
       "1.7641657802703286"
      ]
     },
     "execution_count": 10,
     "metadata": {},
     "output_type": "execute_result"
    }
   ],
   "source": [
    "model_9_9 = DayModel(macrophage=5.46E+10, spore=6.95E+10)\n",
    "%time results_9_9 = model_9_9.run(solver=BasicODESolver)\n",
    "%time mean_of_model_9_9 = get_mean(results_9_9[0])\n",
    "mean_of_model_9_9"
   ]
  },
  {
   "cell_type": "code",
   "execution_count": 11,
   "metadata": {},
   "outputs": [
    {
     "name": "stdout",
     "output_type": "stream",
     "text": [
      "CPU times: user 109 ms, sys: 0 ns, total: 109 ms\n",
      "Wall time: 120 ms\n",
      "CPU times: user 0 ns, sys: 0 ns, total: 0 ns\n",
      "Wall time: 15.5 µs\n"
     ]
    },
    {
     "data": {
      "text/plain": [
       "2.831051466258199"
      ]
     },
     "execution_count": 11,
     "metadata": {},
     "output_type": "execute_result"
    }
   ],
   "source": [
    "model_9_10 = DayModel(macrophage=5.46E+10, spore=1.44E+11)\n",
    "%time results_9_10 = model_9_10.run(solver=BasicODESolver)\n",
    "%time mean_of_model_9_10 = get_mean(results_9_10[0])\n",
    "mean_of_model_9_10"
   ]
  },
  {
   "cell_type": "code",
   "execution_count": 12,
   "metadata": {},
   "outputs": [
    {
     "name": "stdout",
     "output_type": "stream",
     "text": [
      "CPU times: user 125 ms, sys: 0 ns, total: 125 ms\n",
      "Wall time: 125 ms\n",
      "CPU times: user 0 ns, sys: 0 ns, total: 0 ns\n",
      "Wall time: 13.4 µs\n"
     ]
    },
    {
     "data": {
      "text/plain": [
       "2.023967408773207"
      ]
     },
     "execution_count": 12,
     "metadata": {},
     "output_type": "execute_result"
    }
   ],
   "source": [
    "model_10_11 = DayModel(macrophage=1.83E+11, spore=2.98E+11)\n",
    "%time results_10_11 = model_10_11.run(solver=BasicODESolver)\n",
    "%time mean_of_model_10_11 = get_mean(results_10_11[0])\n",
    "mean_of_model_10_11"
   ]
  },
  {
   "cell_type": "code",
   "execution_count": 13,
   "metadata": {},
   "outputs": [
    {
     "name": "stdout",
     "output_type": "stream",
     "text": [
      "CPU times: user 109 ms, sys: 0 ns, total: 109 ms\n",
      "Wall time: 97.3 ms\n",
      "CPU times: user 0 ns, sys: 0 ns, total: 0 ns\n",
      "Wall time: 14.3 µs\n"
     ]
    },
    {
     "name": "stderr",
     "output_type": "stream",
     "text": [
      "/home/george/.local/lib/python3.6/site-packages/scipy/integrate/odepack.py:247: ODEintWarning: Excess work done on this call (perhaps wrong Dfun type). Run with full_output = 1 to get quantitative information.\n",
      "  warnings.warn(warning_msg, ODEintWarning)\n"
     ]
    },
    {
     "data": {
      "text/plain": [
       "3.0000000000000004"
      ]
     },
     "execution_count": 13,
     "metadata": {},
     "output_type": "execute_result"
    }
   ],
   "source": [
    "model_10_12 = DayModel(macrophage=1.83E+11, spore=6.16E+11)\n",
    "%time results_10_12 = model_10_12.run(solver=BasicODESolver)\n",
    "%time mean_of_model_10_12 = get_mean(results_10_12[0])\n",
    "mean_of_model_10_12"
   ]
  },
  {
   "cell_type": "code",
   "execution_count": null,
   "metadata": {},
   "outputs": [],
   "source": []
  },
  {
   "cell_type": "code",
   "execution_count": null,
   "metadata": {},
   "outputs": [],
   "source": [
    "model_10_13 = DayModel(macrophage=1.83E+11, spore=1.27E+12)\n",
    "%time results_10_13 = model_10_13.run(solver=BasicODESolver)\n",
    "%time mean_of_model = get_mean(results_10_13[0])\n",
    "mean_of_model"
   ]
  },
  {
   "cell_type": "code",
   "execution_count": null,
   "metadata": {},
   "outputs": [],
   "source": [
    "model_11_14 = DayModel(macrophage=6.16E+11, spore=2.64E+12)\n",
    "%time results_11_14 = model_11_14.run(solver=BasicODESolver)\n",
    "%time mean_of_model = get_mean(results[0])\n",
    "mean_of_model"
   ]
  },
  {
   "cell_type": "code",
   "execution_count": null,
   "metadata": {},
   "outputs": [],
   "source": [
    "model_11_15 = DayModel(macrophage=6.16E+11, spore=5.46E+12)\n",
    "%time results_11_15 = model_11_15.run(solver=BasicODESolver)\n",
    "%time mean_of_model = get_mean(results_11_15[0])\n",
    "mean_of_model"
   ]
  },
  {
   "cell_type": "code",
   "execution_count": null,
   "metadata": {},
   "outputs": [],
   "source": [
    "model_12_16 = DayModel(macrophage=2.07E+12, spore=1.13E+13)\n",
    "%time results_12_16 = model_12_16.run(solver=BasicODESolver)\n",
    "%time mean_of_model = get_mean(results_12_16[0])\n",
    "mean_of_model"
   ]
  },
  {
   "cell_type": "code",
   "execution_count": null,
   "metadata": {},
   "outputs": [],
   "source": [
    "model_13_17 = DayModel(macrophage=6.95E+12, spore=2.34E+13)\n",
    "%time results_13_17 = model_13_17.run(solver=BasicODESolver)\n",
    "%time mean_of_model = get_mean(results_13_17[0])\n",
    "mean_of_model"
   ]
  },
  {
   "cell_type": "code",
   "execution_count": null,
   "metadata": {},
   "outputs": [],
   "source": [
    "model_13_18 = DayModel(macrophage=6.95E+12, spore=4.83E+13)\n",
    "%time results_13_18 = model_13_18.run(solver=BasicODESolver)\n",
    "%time mean_of_model = get_mean(results_13_18[0])\n",
    "mean_of_model"
   ]
  },
  {
   "cell_type": "code",
   "execution_count": null,
   "metadata": {},
   "outputs": [],
   "source": [
    "model_14_19 = DayModel(macrophage=2.34E+13, spore=1.00E+14)\n",
    "%time results_14_19 = model_14_19.run(solver=BasicODESolver)\n",
    "%time mean_of_model = get_mean(results_14_19[0])\n",
    "mean_of_model"
   ]
  },
  {
   "cell_type": "code",
   "execution_count": null,
   "metadata": {},
   "outputs": [],
   "source": [
    "# THIS IS ONE OF THE OUTLIERS\n",
    "model_15_15 = DayModel(macrophage=7.85E+13, spore=5.46E+12)\n",
    "%time results_15_15 = model_15_15.run(solver=BasicODESolver)\n",
    "%time mean_of_model = get_mean(results_15_15[0])\n",
    "mean_of_model"
   ]
  },
  {
   "cell_type": "code",
   "execution_count": null,
   "metadata": {},
   "outputs": [],
   "source": [
    "# THIS IS ONE OF THE OUTLIERS\n",
    "model_18_18 = DayModel(macrophage=2.48E+15, spore=4.83e13)\n",
    "%time results_18_18 = model_18_18.run(solver=BasicODESolver)\n",
    "%time mean_of_model = get_mean(results_18_18[0])\n",
    "mean_of_model"
   ]
  },
  {
   "cell_type": "code",
   "execution_count": null,
   "metadata": {},
   "outputs": [],
   "source": [
    "res = results[0]\n",
    "data = [\n",
    "    res['HLN1'][-1],\n",
    "    res['HLN2'][-1],\n",
    "    res['HLN3'][-1],\n",
    "    res['HLN4'][-1],\n",
    "    res['HLN5'][-1],\n",
    "    res['HLN6'][-1]\n",
    "]\n",
    "x = [1,2,3,4,5,6]\n",
    "\n",
    "\n",
    "mean = get_mean(res)\n",
    "sd = get_std(res)\n",
    "sem = get_sem(res)\n",
    "\n",
    "plt.bar(x,data)\n",
    "plt.xlabel('HLN')\n",
    "plt.ylabel('Count')\n",
    "plt.show()\n",
    "\n",
    "# plt.hist(data3, bins=x,edgecolor=\"black\")\n",
    "# plt.xlabel('HLN')\n",
    "# plt.ylabel('Count')\n",
    "# plt.show()\n",
    "\n",
    "print(\"Mean: \\t{}\".format(mean))\n",
    "print(\"STD:  \\t{}\".format(sd))\n",
    "print(\"SEM:  \\t{}\".format(sem))"
   ]
  },
  {
   "cell_type": "code",
   "execution_count": null,
   "metadata": {},
   "outputs": [],
   "source": [
    "fig = plt.figure(figsize=(18,10))\n",
    "fig.suptitle(\"Spores available\", fontsize=20)\n",
    "\n",
    "plt.plot(results_orig[0]['time'], results_orig[0]['S_'], 'g-', label='Spore')\n",
    "\n",
    "plt.xlabel(\"Time in Hours\", fontsize=12)\n",
    "plt.ylabel(\"Number of Cells\", fontsize=12)\n",
    "plt.legend(loc='best', fontsize=12)\n",
    "# print(\"Initial spores: {}\".format(results['S_'][0]))\n",
    "# print(\"Spores remaining: {}\".format(results['S_'][-1]))\n",
    "# print(\"Spores at 5 hours: {}\".format(results['S_'][100]))\n"
   ]
  },
  {
   "cell_type": "code",
   "execution_count": null,
   "metadata": {},
   "outputs": [],
   "source": [
    "res = results_orig[0]\n",
    "fig = plt.figure(figsize=(18,10))\n",
    "fig.suptitle(\"Anthrax-infected Cells in Lung\", fontsize=20)\n",
    "\n",
    "#plt.plot(results[0]['time'], results[0]['S_'], 'g-', label='Spore')\n",
    "plt.plot(res['time'], res['H1'], 'r-', label='H1')\n",
    "plt.plot(res['time'], res['H2'], 'g-', label='H2')\n",
    "plt.plot(res['time'], res['H3'], 'b-', label='H3')\n",
    "plt.plot(res['time'], res['H4'], 'k-', label='H4')\n",
    "plt.plot(res['time'], res['H5'], 'm-', label='H5')\n",
    "plt.plot(res['time'], res['H6'], 'y-', label='H6')\n",
    "\n",
    "plt.xlabel(\"Time in Hours\", fontsize=12)\n",
    "plt.ylabel(\"Number of Cells\", fontsize=12)\n",
    "plt.legend(loc='best', fontsize=12)\n",
    "\n",
    "print(\"Lung Hosts at end:\")\n",
    "print(\"H1: {}\".format(res['H1'][-1]))\n",
    "print(\"H2: {}\".format(res['H2'][-1]))\n",
    "print(\"H3: {}\".format(res['H3'][-1]))\n",
    "print(\"H4: {}\".format(res['H4'][-1]))\n",
    "print(\"H5: {}\".format(res['H5'][-1]))\n",
    "print(\"H6: {}\".format(res['H6'][-1]))\n",
    "\n",
    "\n"
   ]
  },
  {
   "cell_type": "code",
   "execution_count": null,
   "metadata": {
    "scrolled": false
   },
   "outputs": [],
   "source": [
    "fig = plt.figure(figsize=(18,10))\n",
    "fig.suptitle(\"Migration to TMLN\", fontsize=20)\n",
    "res = results_orig[0]\n",
    "\n",
    "#plt.plot(results[0]['time'], results[0]['S_'], 'b', label='Spores')\n",
    "plt.plot(res['time'], res['HLN1'], 'r-', label='HLN1')\n",
    "plt.plot(res['time'], res['HLN2'], 'g-', label='HLN2')\n",
    "plt.plot(res['time'], res['HLN3'], 'b-', label='HLN3')\n",
    "plt.plot(res['time'], res['HLN4'], 'k-', label='HLN4')\n",
    "plt.plot(res['time'], res['HLN5'], 'm-', label='HLN5')\n",
    "plt.plot(res['time'], res['HLN6'], 'y-', label='HLN6')\n",
    "\n",
    "plt.xlabel(\"Time in Hours\", fontsize=12)\n",
    "plt.ylabel(\"Number of Cells\", fontsize=12)\n",
    "plt.legend(loc='best', fontsize=12)\n",
    "\n",
    "print(\"k2 = {:.2e}, k3 = {:.2e}\".format(float(model.listOfParameters['k2'].expression), float(model.listOfParameters['k3'].expression)))\n",
    "\n",
    "print(\"Lung Hosts at end:\")\n",
    "print(\"H1: {}\".format(res['H1'][-1]))\n",
    "print(\"H2: {}\".format(res['H2'][-1]))\n",
    "print(\"H3: {}\".format(res['H3'][-1]))\n",
    "print(\"H4: {}\".format(res['H4'][-1]))\n",
    "print(\"H5: {}\".format(res['H5'][-1]))\n",
    "print(\"H6: {}\".format(res['H6'][-1]))\n",
    "\n",
    "print(\"Lymph Node Hosts at end:\")\n",
    "print(\"HLN1: {}\".format(res['HLN1'][-1]))\n",
    "print(\"HLN2: {}\".format(res['HLN2'][-1]))\n",
    "print(\"HLN3: {}\".format(res['HLN3'][-1]))\n",
    "print(\"HLN4: {}\".format(res['HLN4'][-1]))\n",
    "print(\"HLN5: {}\".format(res['HLN5'][-1]))\n",
    "print(\"HLN6: {}\".format(res['HLN6'][-1]))"
   ]
  },
  {
   "cell_type": "code",
   "execution_count": null,
   "metadata": {},
   "outputs": [],
   "source": []
  },
  {
   "cell_type": "code",
   "execution_count": null,
   "metadata": {},
   "outputs": [],
   "source": []
  },
  {
   "cell_type": "code",
   "execution_count": null,
   "metadata": {},
   "outputs": [],
   "source": []
  },
  {
   "cell_type": "code",
   "execution_count": null,
   "metadata": {},
   "outputs": [],
   "source": []
  },
  {
   "cell_type": "code",
   "execution_count": null,
   "metadata": {},
   "outputs": [],
   "source": []
  }
 ],
 "metadata": {
  "kernelspec": {
   "display_name": "Python 3",
   "language": "python",
   "name": "python3"
  },
  "language_info": {
   "codemirror_mode": {
    "name": "ipython",
    "version": 3
   },
   "file_extension": ".py",
   "mimetype": "text/x-python",
   "name": "python",
   "nbconvert_exporter": "python",
   "pygments_lexer": "ipython3",
   "version": "3.6.7"
  }
 },
 "nbformat": 4,
 "nbformat_minor": 2
}
