{
 "cells": [
  {
   "cell_type": "code",
   "execution_count": 443,
   "metadata": {},
   "outputs": [
    {
     "name": "stdout",
     "output_type": "stream",
     "text": [
      "Using matplotlib backend: TkAgg\n"
     ]
    }
   ],
   "source": [
    "%matplotlib\n",
    "%matplotlib inline\n",
    "import numpy\n",
    "import matplotlib.pyplot as plt\n",
    "import sys, os\n",
    "sys.path.append(os.path.abspath(os.path.join(os.getcwd(), os.pardir)))\n",
    "import math, gillespy2\n",
    "from gillespy2.solvers.cpp.ssa_c_solver import SSACSolver\n",
    "from gillespy2.solvers.numpy.basic_ode_solver import BasicODESolver\n",
    "from gillespy2.solvers.python.basic_ssa_solver import BasicSSASolver"
   ]
  },
  {
   "cell_type": "code",
   "execution_count": 444,
   "metadata": {},
   "outputs": [],
   "source": [
    "class DayModel(gillespy2.Model):\n",
    "    def __init__(self, parameter_values=None, init_v=0):\n",
    "        # initialize\n",
    "        gillespy2.Model.__init__(self, name=\"Macrophage\")\n",
    "        \n",
    "        # species\n",
    "        S_ = gillespy2.Species(name='S_', initial_value=1e3) # low = 4e3; mid = 2e4; high = 1e7\n",
    "        \n",
    "        A_ = gillespy2.Species(name='A_', initial_value=1e6) # A = Sa/(k2*S+MuA)\n",
    "        \n",
    "        H1 = gillespy2.Species(name='H1', initial_value=0)\n",
    "        H2 = gillespy2.Species(name='H2', initial_value=0)\n",
    "        H3 = gillespy2.Species(name='H3', initial_value=0)\n",
    "        H4 = gillespy2.Species(name='H4', initial_value=0)\n",
    "        H5 = gillespy2.Species(name='H5', initial_value=0)\n",
    "        H6 = gillespy2.Species(name='H6', initial_value=0)\n",
    "        \n",
    "        HLN1 = gillespy2.Species(name='HLN1', initial_value=0)\n",
    "        HLN2 = gillespy2.Species(name='HLN2', initial_value=0)\n",
    "        HLN3 = gillespy2.Species(name='HLN3', initial_value=0)\n",
    "        HLN4 = gillespy2.Species(name='HLN4', initial_value=0)\n",
    "        HLN5 = gillespy2.Species(name='HLN5', initial_value=0)\n",
    "        HLN6 = gillespy2.Species(name='HLN6', initial_value=0)\n",
    "        \n",
    "        self.add_species([S_,A_,H1,H2,H3,H4,H5,H6,HLN1,HLN2,HLN3,HLN4,HLN5,HLN6])\n",
    "        \n",
    "        # parameters        \n",
    "        # rate of phagocytosis\n",
    "        k2 = gillespy2.Parameter(name='k2', expression=.640)\n",
    "        \n",
    "        # migration to TMLN\n",
    "        k3 = gillespy2.Parameter(name='k3', expression=.640)\n",
    "        \n",
    "        self.add_parameter([k2,k3])\n",
    "        \n",
    "        # reactions\n",
    "        R1 = gillespy2.Reaction(\n",
    "            name='R1',\n",
    "            reactants={S_:1, A_:1},\n",
    "            products={H1:1},\n",
    "            rate=k2\n",
    "        )\n",
    "        \n",
    "        R2 = gillespy2.Reaction(\n",
    "            name='R2',\n",
    "            reactants={S_:1, H1:1},\n",
    "            products={H2:1},\n",
    "            rate=k2\n",
    "        )\n",
    "        \n",
    "        R3 = gillespy2.Reaction(\n",
    "            name='R3',\n",
    "            reactants={S_:1, H2:1},\n",
    "            products={H3:1},\n",
    "            rate=k2\n",
    "        )\n",
    "        \n",
    "        R4 = gillespy2.Reaction(\n",
    "            name='R4',\n",
    "            reactants={S_:1, H3:1},\n",
    "            products={H4:1},\n",
    "            rate=k2\n",
    "        )\n",
    "        \n",
    "        R5 = gillespy2.Reaction(\n",
    "            name='R5',\n",
    "            reactants={S_:1, H4:1},\n",
    "            products={H5:1},\n",
    "            rate=k2\n",
    "        )\n",
    "        \n",
    "        R6 = gillespy2.Reaction(\n",
    "            name='R6',\n",
    "            reactants={S_:1, H5:1},\n",
    "            products={H6:1},\n",
    "            rate=k2\n",
    "        )\n",
    "        \n",
    "        # To the lung\n",
    "        R7 = gillespy2.Reaction(\n",
    "            name='R7',\n",
    "            reactants={H1:1},\n",
    "            products={HLN1:1},\n",
    "            rate=k3\n",
    "        )\n",
    "        \n",
    "        R8 = gillespy2.Reaction(\n",
    "            name='R8',\n",
    "            reactants={H2:1},\n",
    "            products={HLN2:1},\n",
    "            rate=k3\n",
    "        )\n",
    "        \n",
    "        R9 = gillespy2.Reaction(\n",
    "            name='R9',\n",
    "            reactants={H3:1},\n",
    "            products={HLN3:1},\n",
    "            rate=k3\n",
    "        )\n",
    "        \n",
    "        R10 = gillespy2.Reaction(\n",
    "            name='R10',\n",
    "            reactants={H4:1},\n",
    "            products={HLN4:1},\n",
    "            rate=k3\n",
    "        )\n",
    "        \n",
    "        R11 = gillespy2.Reaction(\n",
    "            name='R11',\n",
    "            reactants={H5:1},\n",
    "            products={HLN5:1},\n",
    "            rate=k3\n",
    "        )\n",
    "        \n",
    "        R12 = gillespy2.Reaction(\n",
    "            name='R12',\n",
    "            reactants={H6:1},\n",
    "            products={HLN6:1},\n",
    "            rate=k3\n",
    "        )\n",
    "                \n",
    "        self.add_reaction([R1,R2,R3,R4,R5,R6,R7,R8,R9,R10,R11,R12])\n",
    "        t = numpy.linspace(0,40,801)\n",
    "        self.timespan(t)\n",
    "        #print(t)"
   ]
  },
  {
   "cell_type": "code",
   "execution_count": 445,
   "metadata": {},
   "outputs": [],
   "source": [
    "model = DayModel()"
   ]
  },
  {
   "cell_type": "code",
   "execution_count": 446,
   "metadata": {},
   "outputs": [
    {
     "name": "stdout",
     "output_type": "stream",
     "text": [
      "CPU times: user 125 ms, sys: 0 ns, total: 125 ms\n",
      "Wall time: 123 ms\n"
     ]
    }
   ],
   "source": [
    "%time results = model.run(solver=BasicSSASolver)"
   ]
  },
  {
   "cell_type": "code",
   "execution_count": 447,
   "metadata": {
    "scrolled": false
   },
   "outputs": [
    {
     "name": "stdout",
     "output_type": "stream",
     "text": [
      "Initial spores: 1000\n",
      "Spores remaining: 0\n",
      "Spores at 5 hours: 0\n"
     ]
    },
    {
     "data": {
      "image/png": "[encoded data removed]",
      "text/plain": [
       "<matplotlib.figure.Figure at 0x7f782c4a9400>"
      ]
     },
     "metadata": {
      "needs_background": "light"
     },
     "output_type": "display_data"
    }
   ],
   "source": [
    "fig = plt.figure(figsize=(18,10))\n",
    "fig.suptitle(\"Spores in Lung\", fontsize=20)\n",
    "\n",
    "plt.plot(results['time'], results['S_'], 'g-', label='Spore')\n",
    "\n",
    "plt.xlabel(\"Time in Hours\", fontsize=12)\n",
    "plt.ylabel(\"Number of Cells\", fontsize=12)\n",
    "plt.legend(loc='best', fontsize=12)\n",
    "print(\"Initial spores: {}\".format(results['S_'][0]))\n",
    "print(\"Spores remaining: {}\".format(results['S_'][-1]))\n",
    "print(\"Spores at 5 hours: {}\".format(results['S_'][100]))\n"
   ]
  },
  {
   "cell_type": "code",
   "execution_count": 448,
   "metadata": {},
   "outputs": [
    {
     "name": "stdout",
     "output_type": "stream",
     "text": [
      "Lung Hosts at end:\n",
      "H1: 0\n",
      "H2: 0\n",
      "H3: 0\n",
      "H4: 0\n",
      "H5: 0\n",
      "H6: 0\n"
     ]
    },
    {
     "data": {
      "image/png": "[encoded data removed]",
      "text/plain": [
       "<matplotlib.figure.Figure at 0x7f782c7ed400>"
      ]
     },
     "metadata": {
      "needs_background": "light"
     },
     "output_type": "display_data"
    }
   ],
   "source": [
    "res = results\n",
    "fig = plt.figure(figsize=(18,10))\n",
    "fig.suptitle(\"Anthrax-infected Cells in Lung\", fontsize=20)\n",
    "\n",
    "#plt.plot(results[0]['time'], results[0]['S_'], 'g-', label='Spore')\n",
    "plt.plot(res['time'], res['H1'], 'r-', label='H1')\n",
    "plt.plot(res['time'], res['H2'], 'g-', label='H2')\n",
    "plt.plot(res['time'], res['H3'], 'b-', label='H3')\n",
    "plt.plot(res['time'], res['H4'], 'k-', label='H4')\n",
    "plt.plot(res['time'], res['H5'], 'm-', label='H5')\n",
    "plt.plot(res['time'], res['H6'], 'y-', label='H6')\n",
    "\n",
    "plt.xlabel(\"Time in Hours\", fontsize=12)\n",
    "plt.ylabel(\"Number of Cells\", fontsize=12)\n",
    "plt.legend(loc='best', fontsize=12)\n",
    "\n",
    "print(\"Lung Hosts at end:\")\n",
    "print(\"H1: {}\".format(res['H1'][-1]))\n",
    "print(\"H2: {}\".format(res['H2'][-1]))\n",
    "print(\"H3: {}\".format(res['H3'][-1]))\n",
    "print(\"H4: {}\".format(res['H4'][-1]))\n",
    "print(\"H5: {}\".format(res['H5'][-1]))\n",
    "print(\"H6: {}\".format(res['H6'][-1]))\n",
    "\n",
    "\n"
   ]
  },
  {
   "cell_type": "code",
   "execution_count": 449,
   "metadata": {
    "scrolled": false
   },
   "outputs": [
    {
     "name": "stdout",
     "output_type": "stream",
     "text": [
      "k2 = 6.40e-01, k3 = 6.40e-01\n",
      "Lung Hosts at end:\n",
      "H1: 0\n",
      "H2: 0\n",
      "H3: 0\n",
      "H4: 0\n",
      "H5: 0\n",
      "H6: 0\n",
      "Lymph Node Hosts at end:\n",
      "HLN1: 1000\n",
      "HLN2: 0\n",
      "HLN3: 0\n",
      "HLN4: 0\n",
      "HLN5: 0\n",
      "HLN6: 0\n"
     ]
    },
    {
     "data": {
      "image/png": "[encoded data removed]",
      "text/plain": [
       "<matplotlib.figure.Figure at 0x7f782c7246d8>"
      ]
     },
     "metadata": {
      "needs_background": "light"
     },
     "output_type": "display_data"
    }
   ],
   "source": [
    "fig = plt.figure(figsize=(18,10))\n",
    "fig.suptitle(\"Migration to TMLN\", fontsize=20)\n",
    "res = results\n",
    "\n",
    "#plt.plot(results[0]['time'], results[0]['S_'], 'b', label='Spores')\n",
    "plt.plot(res['time'], res['HLN1'], 'r-', label='HLN1')\n",
    "plt.plot(res['time'], res['HLN2'], 'g-', label='HLN2')\n",
    "plt.plot(res['time'], res['HLN3'], 'b-', label='HLN3')\n",
    "plt.plot(res['time'], res['HLN4'], 'k-', label='HLN4')\n",
    "plt.plot(res['time'], res['HLN5'], 'm-', label='HLN5')\n",
    "plt.plot(res['time'], res['HLN6'], 'y-', label='HLN6')\n",
    "\n",
    "plt.xlabel(\"Time in Hours\", fontsize=12)\n",
    "plt.ylabel(\"Number of Cells\", fontsize=12)\n",
    "plt.legend(loc='best', fontsize=12)\n",
    "\n",
    "print(\"k2 = {:.2e}, k3 = {:.2e}\".format(float(model.listOfParameters['k2'].expression), float(model.listOfParameters['k3'].expression)))\n",
    "\n",
    "print(\"Lung Hosts at end:\")\n",
    "print(\"H1: {}\".format(res['H1'][-1]))\n",
    "print(\"H2: {}\".format(res['H2'][-1]))\n",
    "print(\"H3: {}\".format(res['H3'][-1]))\n",
    "print(\"H4: {}\".format(res['H4'][-1]))\n",
    "print(\"H5: {}\".format(res['H5'][-1]))\n",
    "print(\"H6: {}\".format(res['H6'][-1]))\n",
    "\n",
    "print(\"Lymph Node Hosts at end:\")\n",
    "print(\"HLN1: {}\".format(res['HLN1'][-1]))\n",
    "print(\"HLN2: {}\".format(res['HLN2'][-1]))\n",
    "print(\"HLN3: {}\".format(res['HLN3'][-1]))\n",
    "print(\"HLN4: {}\".format(res['HLN4'][-1]))\n",
    "print(\"HLN5: {}\".format(res['HLN5'][-1]))\n",
    "print(\"HLN6: {}\".format(res['HLN6'][-1]))"
   ]
  },
  {
   "cell_type": "code",
   "execution_count": 450,
   "metadata": {},
   "outputs": [
    {
     "data": {
      "image/png": "[encoded data removed]",
      "text/plain": [
       "<matplotlib.figure.Figure at 0x7f782c8c7208>"
      ]
     },
     "metadata": {
      "needs_background": "light"
     },
     "output_type": "display_data"
    },
    {
     "name": "stdout",
     "output_type": "stream",
     "text": [
      "47.61904761904762\n"
     ]
    },
    {
     "name": "stderr",
     "output_type": "stream",
     "text": [
      "2019-01-30 22:03:11,013 - tornado.application - ERROR - Exception in callback functools.partial(<function wrap.<locals>.null_wrapper at 0x7f782c32ec80>)\n",
      "Traceback (most recent call last):\n",
      "  File \"/home/george/.local/lib/python3.6/site-packages/tornado/ioloop.py\", line 758, in _run_callback\n",
      "    ret = callback()\n",
      "  File \"/home/george/.local/lib/python3.6/site-packages/tornado/stack_context.py\", line 300, in null_wrapper\n",
      "    return fn(*args, **kwargs)\n",
      "  File \"/home/george/.local/lib/python3.6/site-packages/ipykernel/kernelbase.py\", line 306, in advance_eventloop\n",
      "    eventloop(self)\n",
      "TypeError: 'NoneType' object is not callable\n"
     ]
    }
   ],
   "source": [
    "res = results\n",
    "data = [\n",
    "    res['HLN1'][-1],\n",
    "    res['HLN2'][-1],\n",
    "    res['HLN3'][-1],\n",
    "    res['HLN4'][-1],\n",
    "    res['HLN5'][-1],\n",
    "    res['HLN6'][-1]\n",
    "]\n",
    "x = [1,2,3,4,5,6]\n",
    "plt.bar(x,data)\n",
    "plt.xlabel('HLN')\n",
    "plt.ylabel('Count')\n",
    "plt.show()\n",
    "\n",
    "weighted_avg = (\n",
    "        (1*res['HLN1'][-1]) +\n",
    "        (2*res['HLN2'][-1]) +\n",
    "        (3*res['HLN3'][-1]) +\n",
    "        (3*res['HLN3'][-1]) +\n",
    "        (4*res['HLN4'][-1]) +\n",
    "        (5*res['HLN5'][-1]) + \n",
    "        (6*res['HLN6'][-1])\n",
    "    ) / 21\n",
    "print(weighted_avg)"
   ]
  },
  {
   "cell_type": "code",
   "execution_count": null,
   "metadata": {},
   "outputs": [],
   "source": []
  },
  {
   "cell_type": "code",
   "execution_count": null,
   "metadata": {},
   "outputs": [],
   "source": []
  },
  {
   "cell_type": "code",
   "execution_count": null,
   "metadata": {},
   "outputs": [],
   "source": []
  },
  {
   "cell_type": "code",
   "execution_count": null,
   "metadata": {},
   "outputs": [],
   "source": []
  },
  {
   "cell_type": "code",
   "execution_count": null,
   "metadata": {},
   "outputs": [],
   "source": []
  }
 ],
 "metadata": {
  "kernelspec": {
   "display_name": "Python 3",
   "language": "python",
   "name": "python3"
  },
  "language_info": {
   "codemirror_mode": {
    "name": "ipython",
    "version": 3
   },
   "file_extension": ".py",
   "mimetype": "text/x-python",
   "name": "python",
   "nbconvert_exporter": "python",
   "pygments_lexer": "ipython3",
   "version": "3.6.7"
  }
 },
 "nbformat": 4,
 "nbformat_minor": 2
}
