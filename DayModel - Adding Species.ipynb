{
 "cells": [
  {
   "cell_type": "code",
   "execution_count": 1,
   "metadata": {
    "collapsed": false
   },
   "outputs": [
    {
     "name": "stdout",
     "output_type": "stream",
     "text": [
      "Using matplotlib backend: Qt5Agg\n"
     ]
    },
    {
     "name": "stderr",
     "output_type": "stream",
     "text": [
      "WARNING:root: Unable to use Cython optimized SSA: Building module gillespy2.cython_ssa_solver failed: ['distutils.errors.DistutilsPlatformError: Unable to find vcvarsall.bat\\n']\n",
      "The performance of this package can be significantly increased if you install Cython.\n"
     ]
    }
   ],
   "source": [
    "%matplotlib\n",
    "%matplotlib inline\n",
    "import numpy\n",
    "import matplotlib.pyplot as plt\n",
    "import sys, os\n",
    "sys.path.append(os.path.abspath(os.path.join(os.getcwd(), os.pardir)))\n",
    "import math, gillespy2\n",
    "from gillespy2.basic_tau_hybrid_solver import BasicTauHybridSolver\n",
    "from gillespy2.optimized_ssa_solver import NumPySSASolver"
   ]
  },
  {
   "cell_type": "code",
   "execution_count": 2,
   "metadata": {
    "collapsed": true
   },
   "outputs": [],
   "source": [
    "class DayModel(gillespy2.Model):\n",
    "    def __init__(self, parameter_values=None, init_v=0):\n",
    "        # initialize\n",
    "        gillespy2.Model.__init__(self, name=\"Macrophage\")\n",
    "        \n",
    "        # species\n",
    "        S_ = gillespy2.Species(name='S_', initial_value=1e6)\n",
    "        M_ = gillespy2.Species(name='M_', initial_value=1e6)\n",
    "        H_ = gillespy2.Species(name='H_', initial_value=0)\n",
    "        E_ = gillespy2.Species(name='E_', initial_value=2e9)\n",
    "        Be_ = gillespy2.Species(name='Be_', initial_value=0)\n",
    "        N_ = gillespy2.Species(name='N_', initial_value=0)\n",
    "        Ta_ = gillespy2.Species(name='Ta_', initial_value=1)\n",
    "        \n",
    "        self.add_species([S_,M_,H_,E_,Be_,N_,Ta_])\n",
    "        \n",
    "        # parameters\n",
    "        ns = gillespy2.Parameter(name='ns', expression=2) # avg = 3.38\n",
    "        nb = gillespy2.Parameter(name='Nb', expression=5)\n",
    "        \n",
    "        k1 = gillespy2.Parameter(name='k1', expression=0)\n",
    "        k2 = gillespy2.Parameter(name='k2', expression=3.1e-10) #\n",
    "        k3 = gillespy2.Parameter(name='k3', expression=0)\n",
    "        k4 = gillespy2.Parameter(name='k4', expression=0)\n",
    "        k5 = gillespy2.Parameter(name='k5', expression=0)\n",
    "        k6 = gillespy2.Parameter(name='k6', expression=0)\n",
    "        k8 = gillespy2.Parameter(name='k8', expression=0)\n",
    "        k9 = gillespy2.Parameter(name='k9', expression=0)\n",
    "        k10 = gillespy2.Parameter(name='k10', expression=0)\n",
    "        \n",
    "        Sa = gillespy2.Parameter(name='Sa_', expression=0)\n",
    "        Se = gillespy2.Parameter(name='Se_', expression=0)\n",
    "        \n",
    "        MuA = gillespy2.Parameter(name='MuA', expression=0)\n",
    "        MuE = gillespy2.Parameter(name='MuE', expression=0)\n",
    "        MuN = gillespy2.Parameter(name='MuN', expression=0)\n",
    "        MuTa = gillespy2.Parameter(name='MuTa', expression=0)\n",
    "        \n",
    "        N0 = gillespy2.Parameter(name='N0', expression=0)\n",
    "        \n",
    "        BeMAX = gillespy2.Parameter(name='BeMAX', expression=1)\n",
    "        \n",
    "        CT1 = gillespy2.Parameter(name='CT1', expression=1)\n",
    "        CT2 = gillespy2.Parameter(name='CT2', expression=1)\n",
    "        CT3 = gillespy2.Parameter(name='CT3', expression=1)\n",
    "        CTB = gillespy2.Parameter(name='CTB', expression=1000)\n",
    "        \n",
    "        self.add_parameter([ns,nb,k1,k2,k3,k4,k5,k6,k8,k9,k10,Sa,Se,MuA,MuE,MuN,MuTa,N0,BeMAX,CT1,CT2,CT3,CTB])\n",
    "        \n",
    "        # reactions\n",
    "        r1 = gillespy2.Reaction(name='r1', reactants={S_:int(ns.expression),M_:1}, products={H_:1},\n",
    "                               propensity_function=\"(k2*S_*(Sa_/k2*S_ + MuA))/ns\")\n",
    "        \n",
    "        r2 = gillespy2.Reaction(name='r2', reactants={}, products = {M_:1},\n",
    "                                rate=Sa)\n",
    "        \n",
    "        r3 = gillespy2.Reaction(name='r3', reactants={M_:1}, products = {},\n",
    "                                rate=MuA)\n",
    "        \n",
    "        r4 = gillespy2.Reaction(name='r4', reactants={H_:1}, products = {Be_:int(nb.expression)},\n",
    "                                rate=k3)\n",
    "        \n",
    "        r5 = gillespy2.Reaction(name='r5', reactants={Be_:1, E_:1}, products={Be_:1},\n",
    "                                rate=k1)\n",
    "        \n",
    "        r6 = gillespy2.Reaction(name='r6', reactants={E_:1}, products={},\n",
    "                                rate=MuE)\n",
    "        \n",
    "        r7 = gillespy2.Reaction(name='r7', reactants={Be_:1, E_:1}, products={E_:1},\n",
    "                                rate=k6)\n",
    "        \n",
    "        r8 = gillespy2.Reaction(name='r8', reactants={Be_:1}, products={Be_:1},\n",
    "                                propensity_function=\"k5*(1-(Be_/BeMAX))\")\n",
    "        \n",
    "        r9 = gillespy2.Reaction(name='r9', reactants={Be_:1}, products={},\n",
    "                                propensity_function=\"(k5*N_*Be_)/(1+(Ta_/CT1))\")\n",
    "        \n",
    "        r10 = gillespy2.Reaction(name='r10', reactants={N_:1,Be_:1}, products={N_:1},\n",
    "                                propensity_function=\"(k9*Be_*E_*N0)/(1+(Ta_/CT2))\")\n",
    "        \n",
    "        r11 = gillespy2.Reaction(name='r11', reactants={N_:1}, products={N_:1},\n",
    "                                propensity_function=\"(k10*N_*N0)/(1+(Ta_/CT3))\")\n",
    "        \n",
    "        r12 = gillespy2.Reaction(name='r12', reactants={N_:1}, products={},\n",
    "                                rate=MuN)\n",
    "        \n",
    "        r13 = gillespy2.Reaction(name='r13', reactants={Be_:1}, products={Ta_:1},\n",
    "                                propensity_function=\"k4*(Be_/(CTB+Be_))\")\n",
    "        \n",
    "        r14 = gillespy2.Reaction(name='r14', reactants={Ta_:1}, products={},\n",
    "                                rate=MuTa)\n",
    "        \n",
    "        self.add_reaction([r1,r2,r3,r4,r5,r6,r7,r8,r9,r10,r11,r12,r13,r14])\n",
    "        t = numpy.linspace(0,3600,361)\n",
    "        self.timespan(t)\n",
    "        # print(t)"
   ]
  },
  {
   "cell_type": "code",
   "execution_count": 3,
   "metadata": {
    "collapsed": false
   },
   "outputs": [],
   "source": [
    "model = DayModel()"
   ]
  },
  {
   "cell_type": "code",
   "execution_count": 4,
   "metadata": {
    "collapsed": false
   },
   "outputs": [
    {
     "name": "stdout",
     "output_type": "stream",
     "text": [
      "Wall time: 125 ms\n"
     ]
    }
   ],
   "source": [
    "%time results = model.run(solver=BasicTauHybridSolver())"
   ]
  },
  {
   "cell_type": "code",
   "execution_count": 5,
   "metadata": {
    "collapsed": false
   },
   "outputs": [
    {
     "name": "stdout",
     "output_type": "stream",
     "text": [
      "[1000000, 1000000, 1000000, 1000000, 1000000, 1000000, 1000000, 1000000, 1000000, 1000000, 1000000, 1000000, 1000000, 1000000, 1000000, 1000000, 1000000, 1000000, 1000000, 1000000, 1000000, 1000000, 1000000, 1000000, 1000000, 1000000, 1000000, 1000000, 1000000, 1000000, 1000000, 1000000, 1000000, 1000000, 1000000, 1000000, 1000000, 1000000, 1000000, 1000000, 1000000, 1000000, 1000000, 1000000, 1000000, 1000000, 1000000, 1000000, 1000000, 1000000, 1000000, 1000000, 1000000, 1000000, 1000000, 1000000, 1000000, 1000000, 1000000, 1000000, 1000000, 1000000, 1000000, 1000000, 1000000, 1000000, 1000000, 1000000, 1000000, 1000000, 1000000, 1000000, 1000000, 1000000, 1000000, 1000000, 1000000, 1000000, 1000000, 1000000, 1000000, 1000000, 1000000, 1000000, 1000000, 1000000, 1000000, 1000000, 1000000, 1000000, 1000000, 1000000, 1000000, 1000000, 1000000, 1000000, 1000000, 1000000, 1000000, 1000000, 1000000, 1000000, 1000000, 1000000, 1000000, 1000000, 1000000, 1000000, 1000000, 1000000, 1000000, 1000000, 1000000, 1000000, 1000000, 1000000, 1000000, 1000000, 1000000, 1000000, 1000000, 1000000, 1000000, 1000000, 1000000, 1000000, 1000000, 1000000, 1000000, 1000000, 1000000, 1000000, 1000000, 1000000, 1000000, 1000000, 1000000, 1000000, 1000000, 1000000, 1000000, 1000000, 1000000, 1000000, 1000000, 1000000, 1000000, 1000000, 1000000, 1000000, 1000000, 1000000, 1000000, 1000000, 1000000, 1000000, 1000000, 1000000, 1000000, 1000000, 1000000, 1000000, 1000000, 1000000, 1000000, 1000000, 1000000, 1000000, 1000000, 1000000, 1000000, 1000000, 1000000, 1000000, 1000000, 1000000, 1000000, 1000000, 1000000, 1000000, 1000000, 1000000, 1000000, 1000000, 1000000, 1000000, 1000000, 1000000, 1000000, 1000000, 1000000, 1000000, 1000000, 1000000, 1000000, 1000000, 1000000, 1000000, 1000000, 1000000, 1000000, 1000000, 1000000, 1000000, 1000000, 1000000, 1000000, 1000000, 1000000, 1000000, 1000000, 1000000, 1000000, 1000000, 1000000, 1000000, 1000000, 1000000, 1000000, 1000000, 1000000, 1000000, 1000000, 1000000, 1000000, 1000000, 1000000, 1000000, 1000000, 1000000, 1000000, 1000000, 1000000, 1000000, 1000000, 1000000, 1000000, 1000000, 1000000, 1000000, 1000000, 1000000, 1000000, 1000000, 1000000, 1000000, 1000000, 1000000, 1000000, 1000000, 1000000, 1000000, 1000000, 1000000, 1000000, 1000000, 1000000, 1000000, 1000000, 1000000, 1000000, 1000000, 1000000, 1000000, 1000000, 1000000, 1000000, 1000000, 1000000, 1000000, 1000000, 1000000, 1000000, 1000000, 1000000, 1000000, 1000000, 1000000, 1000000, 1000000, 1000000, 1000000, 1000000, 1000000, 1000000, 1000000, 1000000, 1000000, 1000000, 1000000, 1000000, 1000000, 1000000, 1000000, 1000000, 1000000, 1000000, 1000000, 1000000, 1000000, 1000000, 1000000, 1000000, 1000000, 1000000, 1000000, 1000000, 1000000, 1000000, 1000000, 1000000, 1000000, 1000000, 1000000, 1000000, 1000000, 1000000, 1000000, 1000000, 1000000, 1000000, 1000000, 1000000, 1000000, 1000000, 1000000, 1000000, 1000000, 1000000, 1000000, 1000000, 1000000, 1000000, 1000000, 1000000, 1000000, 1000000, 1000000, 1000000, 1000000, 1000000, 1000000, 1000000, 1000000, 1000000, 1000000, 1000000, 1000000, 1000000, 1000000, 1000000, 1000000, 1000000, 1000000, 1000000, 1000000, 1000000, 1000000, 1000000, 1000000]\n"
     ]
    }
   ],
   "source": [
    "print(results['S_'])\n",
    "#print(results['S_'][-1]/(results['S_'][0]/int(model.listOfParameters['ns'].expression)))"
   ]
  },
  {
   "cell_type": "code",
   "execution_count": 6,
   "metadata": {
    "collapsed": false
   },
   "outputs": [
    {
     "data": {
      "text/plain": [
       "<matplotlib.legend.Legend at 0x21947990358>"
      ]
     },
     "execution_count": 6,
     "metadata": {},
     "output_type": "execute_result"
    },
    {
     "data": {
      "image/png": "[encoded data removed]",
      "text/plain": [
       "<matplotlib.figure.Figure at 0x219472b7c50>"
      ]
     },
     "metadata": {},
     "output_type": "display_data"
    }
   ],
   "source": [
    "fig = plt.figure(figsize=(20,8))\n",
    "plt.plot(results['time'], results['S_'], 'g-', label='Anthrax')\n",
    "plt.plot(results['time'], results['M_'], 'b-', label='Macrophage')\n",
    "plt.plot(results['time'], results['H_'], 'k-', label='Infected Cell')\n",
    "plt.xlabel(\"Time in Seconds\", fontsize=12)\n",
    "plt.ylabel(\"Population\", fontsize=12)\n",
    "plt.legend(loc='best', fontsize=12)\n",
    "\n",
    "\n",
    "\n"
   ]
  },
  {
   "cell_type": "code",
   "execution_count": 7,
   "metadata": {
    "collapsed": false
   },
   "outputs": [
    {
     "data": {
      "text/plain": [
       "<matplotlib.legend.Legend at 0x219476a9390>"
      ]
     },
     "execution_count": 7,
     "metadata": {},
     "output_type": "execute_result"
    },
    {
     "data": {
      "image/png": "[encoded data removed]",
      "text/plain": [
       "<matplotlib.figure.Figure at 0x219472b74a8>"
      ]
     },
     "metadata": {},
     "output_type": "display_data"
    }
   ],
   "source": [
    "fig = plt.figure(figsize=(20,8))\n",
    "plt.plot(results['time'], results['E_'], 'c-', label='Resident immune cells')\n",
    "plt.plot(results['time'], results['Be_'], 'y-', label='Extracellular Bacteria')\n",
    "plt.plot(results['time'], results['N_'], 'b-', label='Neutrophils')\n",
    "plt.plot(results['time'], results['Ta_'], 'k-', label='Antrax Toxins')\n",
    "plt.xlabel(\"Time in Seconds\")\n",
    "plt.ylabel(\"Population\")\n",
    "plt.legend(loc='best', fontsize=12)"
   ]
  },
  {
   "cell_type": "code",
   "execution_count": null,
   "metadata": {
    "collapsed": true
   },
   "outputs": [],
   "source": []
  }
 ],
 "metadata": {
  "kernelspec": {
   "display_name": "Python 3",
   "language": "python",
   "name": "python3"
  },
  "language_info": {
   "codemirror_mode": {
    "name": "ipython",
    "version": 3
   },
   "file_extension": ".py",
   "mimetype": "text/x-python",
   "name": "python",
   "nbconvert_exporter": "python",
   "pygments_lexer": "ipython3",
   "version": "3.6.0"
  }
 },
 "nbformat": 4,
 "nbformat_minor": 2
}
