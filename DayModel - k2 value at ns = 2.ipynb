{
 "cells": [
  {
   "cell_type": "code",
   "execution_count": 5,
   "metadata": {
    "collapsed": false
   },
   "outputs": [
    {
     "name": "stdout",
     "output_type": "stream",
     "text": [
      "Using matplotlib backend: Qt5Agg\n"
     ]
    }
   ],
   "source": [
    "%matplotlib\n",
    "%matplotlib inline\n",
    "import numpy\n",
    "import matplotlib.pyplot as plt\n",
    "import sys, os\n",
    "sys.path.append(os.path.abspath(os.path.join(os.getcwd(), os.pardir)))\n",
    "import math, gillespy2\n",
    "from gillespy2.basic_tau_hybrid_solver import BasicTauHybridSolver"
   ]
  },
  {
   "cell_type": "code",
   "execution_count": 6,
   "metadata": {
    "collapsed": true
   },
   "outputs": [],
   "source": [
    "class DayModel(gillespy2.Model):\n",
    "    def __init__(self, parameter_values=None, init_v=0):\n",
    "        # initialize\n",
    "        gillespy2.Model.__init__(self, name=\"Macrophage\")\n",
    "        \n",
    "        # species\n",
    "        S_ = gillespy2.Species(name='S_', initial_value=1e6)\n",
    "        M_ = gillespy2.Species(name='M_', initial_value=1e6)\n",
    "        H_ = gillespy2.Species(name='H_', initial_value=0)\n",
    "        \n",
    "        self.add_species([S_,M_,H_])\n",
    "        \n",
    "        # parameters\n",
    "        k2 = gillespy2.Parameter(name='k2', expression=3.1e-10)\n",
    "        k3 = gillespy2.Parameter(name='k3', expression=0)\n",
    "        Sa = gillespy2.Parameter(name='Sa_', expression=0)\n",
    "        MuA = gillespy2.Parameter(name='MuA', expression=0)\n",
    "        ns = gillespy2.Parameter(name='ns', expression=2) # avg = 3.38\n",
    "        \n",
    "        self.add_parameter([k2,k3,Sa,ns,MuA])\n",
    "        \n",
    "        # reactions\n",
    "        r1 = gillespy2.Reaction(name='r1', reactants={S_:int(ns.expression),M_:1}, products={H_:1},\n",
    "                               propensity_function=\"(k2*S_*M_)/ns\")\n",
    "        \n",
    "        r2 = gillespy2.Reaction(name='r2', reactants={}, products = {M_:1},\n",
    "                                rate=Sa)\n",
    "        \n",
    "        r3 = gillespy2.Reaction(name='r3', reactants={M_:1}, products = {},\n",
    "                                rate=MuA)\n",
    "        \n",
    "        r4 = gillespy2.Reaction(name='r4', reactants={H_:1}, products = {},\n",
    "                                rate=k3)\n",
    "        \n",
    "        self.add_reaction([r1,r2,r3,r4])\n",
    "        t = numpy.linspace(0,3600,361)\n",
    "        self.timespan(t)\n",
    "        # print(t)"
   ]
  },
  {
   "cell_type": "code",
   "execution_count": null,
   "metadata": {
    "collapsed": true
   },
   "outputs": [],
   "source": [
    "model = DayModel()"
   ]
  },
  {
   "cell_type": "code",
   "execution_count": null,
   "metadata": {
    "collapsed": false
   },
   "outputs": [],
   "source": [
    "%time results = model.run(solver=BasicTauHybridSolver())"
   ]
  },
  {
   "cell_type": "code",
   "execution_count": null,
   "metadata": {
    "collapsed": false
   },
   "outputs": [],
   "source": [
    "fig = plt.figure(figsize=(18,10))\n",
    "fig.suptitle(\"Anthrax in Deep Lung\", fontsize=20)\n",
    "plt.plot(results['time'], results['S_'], 'g-', label='Anthrax')\n",
    "plt.plot(results['time'], results['M_'], 'b-', label='Macrophage')\n",
    "plt.plot(results['time'], results['H_'], 'k-', label='Infected Cell')\n",
    "plt.xlabel(\"Time in Seconds\", fontsize=12)\n",
    "plt.ylabel(\"Number of Spores\", fontsize=12)\n",
    "plt.legend(loc='best', fontsize=12)\n",
    "print(results['S_'][-1]/(results['S_'][0]/int(model.listOfParameters['ns'].expression)))\n",
    "\n",
    "\n"
   ]
  },
  {
   "cell_type": "code",
   "execution_count": null,
   "metadata": {
    "collapsed": true
   },
   "outputs": [],
   "source": []
  }
 ],
 "metadata": {
  "kernelspec": {
   "display_name": "Python 3",
   "language": "python",
   "name": "python3"
  },
  "language_info": {
   "codemirror_mode": {
    "name": "ipython",
    "version": 3
   },
   "file_extension": ".py",
   "mimetype": "text/x-python",
   "name": "python",
   "nbconvert_exporter": "python",
   "pygments_lexer": "ipython3",
   "version": "3.6.0"
  }
 },
 "nbformat": 4,
 "nbformat_minor": 2
}
